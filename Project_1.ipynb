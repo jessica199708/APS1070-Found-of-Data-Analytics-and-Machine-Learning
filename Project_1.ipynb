{
  "nbformat": 4,
  "nbformat_minor": 0,
  "metadata": {
    "kernelspec": {
      "display_name": "Python 3",
      "language": "python",
      "name": "python3"
    },
    "language_info": {
      "codemirror_mode": {
        "name": "ipython",
        "version": 3
      },
      "file_extension": ".py",
      "mimetype": "text/x-python",
      "name": "python",
      "nbconvert_exporter": "python",
      "pygments_lexer": "ipython3",
      "version": "3.7.4"
    },
    "colab": {
      "name": "Project_1.ipynb",
      "provenance": [],
      "collapsed_sections": []
    }
  },
  "cells": [
    {
      "cell_type": "markdown",
      "metadata": {
        "id": "08owH-AVyZCX",
        "colab_type": "text"
      },
      "source": [
        "# APS1070\n",
        "#### Basic Principles and Models - Project 1\n",
        "**Deadline: May 31, 23:00 - 14 points**"
      ]
    },
    {
      "cell_type": "markdown",
      "metadata": {
        "id": "fRZ3wBoe398S",
        "colab_type": "text"
      },
      "source": [
        "**Academic Integrity**\n",
        "\n",
        "This project is individual - it is to be completed on your own. If you have questions, please post your query in the APS1070 Piazza Q&A forums (the answer might be useful to others!).\n",
        "\n",
        "Do not share your code with others, or post your work online. Do not submit code that you have not written yourself. Students suspected of plagiarism on a project, midterm or exam will be referred to the department for formal discipline for breaches of the Student Code of Conduct."
      ]
    },
    {
      "cell_type": "markdown",
      "metadata": {
        "id": "qonbueFGyemb",
        "colab_type": "text"
      },
      "source": [
        "Name: **Jiani Jia**   *(here and elsewhere, please replace the underscore with your answer)*\n",
        "\n",
        "Student ID: **1002226245**"
      ]
    },
    {
      "cell_type": "markdown",
      "metadata": {
        "id": "Dykrw3cyy7PF",
        "colab_type": "text"
      },
      "source": [
        "##**Marking Scheme:**\n",
        "\n",
        "This project is worth **14 marks** of your final grade.\n",
        "\n",
        "Draw a plot or table where necessary to summarize your findings. \n",
        "\n",
        "**Practice Vectorized coding**: If you need to write a loop in your solution, think about how you can implement the same functionality with vectorized operations. Try to avoid loops as much as possible (in some cases, loops are inevitable).\n",
        "\n"
      ]
    },
    {
      "cell_type": "markdown",
      "metadata": {
        "id": "yYlo7mIXyZFe",
        "colab_type": "text"
      },
      "source": [
        "# Project 1 [14 Marks] \n",
        "Let's take the tools we have learned in the tutorial and put them into practice on a new dataset.\n",
        "\n",
        "We're going to work with a breast cancer dataset. Download it using the cell below:"
      ]
    },
    {
      "cell_type": "code",
      "metadata": {
        "id": "YFo8KVcryZFe",
        "colab_type": "code",
        "colab": {}
      },
      "source": [
        "from sklearn.datasets import load_breast_cancer\n",
        "dataset = load_breast_cancer()"
      ],
      "execution_count": 0,
      "outputs": []
    },
    {
      "cell_type": "markdown",
      "metadata": {
        "id": "gOGmwyQNyZFh",
        "colab_type": "text"
      },
      "source": [
        "## Part 1: Getting started [6 Marks]\n",
        "First off, take a look at the `data`, `target` and `feature_names` entries in the `dataset` dictionary. They contain the information we'll be working with here. Then, create a Pandas DataFrame called `df` containing the data and the targets, with the feature names as column headings. If you need help, refer [here](https://pandas.pydata.org/pandas-docs/stable/reference/api/pandas.DataFrame.html) for more details on how to achieve this. **[1]**\n",
        "* How many features do we have in this dataset? \n",
        "   \n",
        "   **Total 30 features**\n",
        "* What are the target classes? \n",
        "  \n",
        "  **Malignant and Benign**\n",
        "* What do these target classes signify?  \n",
        "  \n",
        "  **A label for each patient, 0 means Malignant and 1 means Benign**\n",
        "* How many participants tested `Malignant`? \n",
        "  \n",
        "  **212**\n",
        "* How many participants tested `Benign`? \n",
        "  \n",
        "  **357**"
      ]
    },
    {
      "cell_type": "code",
      "metadata": {
        "id": "at4RW8lvbTRW",
        "colab_type": "code",
        "outputId": "c1827581-f642-40ba-bb37-e1279519bad6",
        "colab": {
          "base_uri": "https://localhost:8080/",
          "height": 473
        }
      },
      "source": [
        "### YOUR CODE HERE ###\n",
        "import pandas as pd\n",
        "import numpy as np\n",
        "## Take a look at data,target and feature_name\n",
        "dataset.data\n",
        "dataset.target\n",
        "dataset.feature_names\n",
        "## Create a Pandas DataFrame containing the data and the targets\n",
        "df = pd.DataFrame(data = dataset.data, columns = dataset.feature_names)\n",
        "df['Target']= dataset.target\n",
        "df"
      ],
      "execution_count": 2,
      "outputs": [
        {
          "output_type": "execute_result",
          "data": {
            "text/html": [
              "<div>\n",
              "<style scoped>\n",
              "    .dataframe tbody tr th:only-of-type {\n",
              "        vertical-align: middle;\n",
              "    }\n",
              "\n",
              "    .dataframe tbody tr th {\n",
              "        vertical-align: top;\n",
              "    }\n",
              "\n",
              "    .dataframe thead th {\n",
              "        text-align: right;\n",
              "    }\n",
              "</style>\n",
              "<table border=\"1\" class=\"dataframe\">\n",
              "  <thead>\n",
              "    <tr style=\"text-align: right;\">\n",
              "      <th></th>\n",
              "      <th>mean radius</th>\n",
              "      <th>mean texture</th>\n",
              "      <th>mean perimeter</th>\n",
              "      <th>mean area</th>\n",
              "      <th>mean smoothness</th>\n",
              "      <th>mean compactness</th>\n",
              "      <th>mean concavity</th>\n",
              "      <th>mean concave points</th>\n",
              "      <th>mean symmetry</th>\n",
              "      <th>mean fractal dimension</th>\n",
              "      <th>radius error</th>\n",
              "      <th>texture error</th>\n",
              "      <th>perimeter error</th>\n",
              "      <th>area error</th>\n",
              "      <th>smoothness error</th>\n",
              "      <th>compactness error</th>\n",
              "      <th>concavity error</th>\n",
              "      <th>concave points error</th>\n",
              "      <th>symmetry error</th>\n",
              "      <th>fractal dimension error</th>\n",
              "      <th>worst radius</th>\n",
              "      <th>worst texture</th>\n",
              "      <th>worst perimeter</th>\n",
              "      <th>worst area</th>\n",
              "      <th>worst smoothness</th>\n",
              "      <th>worst compactness</th>\n",
              "      <th>worst concavity</th>\n",
              "      <th>worst concave points</th>\n",
              "      <th>worst symmetry</th>\n",
              "      <th>worst fractal dimension</th>\n",
              "      <th>Target</th>\n",
              "    </tr>\n",
              "  </thead>\n",
              "  <tbody>\n",
              "    <tr>\n",
              "      <th>0</th>\n",
              "      <td>17.99</td>\n",
              "      <td>10.38</td>\n",
              "      <td>122.80</td>\n",
              "      <td>1001.0</td>\n",
              "      <td>0.11840</td>\n",
              "      <td>0.27760</td>\n",
              "      <td>0.30010</td>\n",
              "      <td>0.14710</td>\n",
              "      <td>0.2419</td>\n",
              "      <td>0.07871</td>\n",
              "      <td>1.0950</td>\n",
              "      <td>0.9053</td>\n",
              "      <td>8.589</td>\n",
              "      <td>153.40</td>\n",
              "      <td>0.006399</td>\n",
              "      <td>0.04904</td>\n",
              "      <td>0.05373</td>\n",
              "      <td>0.01587</td>\n",
              "      <td>0.03003</td>\n",
              "      <td>0.006193</td>\n",
              "      <td>25.380</td>\n",
              "      <td>17.33</td>\n",
              "      <td>184.60</td>\n",
              "      <td>2019.0</td>\n",
              "      <td>0.16220</td>\n",
              "      <td>0.66560</td>\n",
              "      <td>0.7119</td>\n",
              "      <td>0.2654</td>\n",
              "      <td>0.4601</td>\n",
              "      <td>0.11890</td>\n",
              "      <td>0</td>\n",
              "    </tr>\n",
              "    <tr>\n",
              "      <th>1</th>\n",
              "      <td>20.57</td>\n",
              "      <td>17.77</td>\n",
              "      <td>132.90</td>\n",
              "      <td>1326.0</td>\n",
              "      <td>0.08474</td>\n",
              "      <td>0.07864</td>\n",
              "      <td>0.08690</td>\n",
              "      <td>0.07017</td>\n",
              "      <td>0.1812</td>\n",
              "      <td>0.05667</td>\n",
              "      <td>0.5435</td>\n",
              "      <td>0.7339</td>\n",
              "      <td>3.398</td>\n",
              "      <td>74.08</td>\n",
              "      <td>0.005225</td>\n",
              "      <td>0.01308</td>\n",
              "      <td>0.01860</td>\n",
              "      <td>0.01340</td>\n",
              "      <td>0.01389</td>\n",
              "      <td>0.003532</td>\n",
              "      <td>24.990</td>\n",
              "      <td>23.41</td>\n",
              "      <td>158.80</td>\n",
              "      <td>1956.0</td>\n",
              "      <td>0.12380</td>\n",
              "      <td>0.18660</td>\n",
              "      <td>0.2416</td>\n",
              "      <td>0.1860</td>\n",
              "      <td>0.2750</td>\n",
              "      <td>0.08902</td>\n",
              "      <td>0</td>\n",
              "    </tr>\n",
              "    <tr>\n",
              "      <th>2</th>\n",
              "      <td>19.69</td>\n",
              "      <td>21.25</td>\n",
              "      <td>130.00</td>\n",
              "      <td>1203.0</td>\n",
              "      <td>0.10960</td>\n",
              "      <td>0.15990</td>\n",
              "      <td>0.19740</td>\n",
              "      <td>0.12790</td>\n",
              "      <td>0.2069</td>\n",
              "      <td>0.05999</td>\n",
              "      <td>0.7456</td>\n",
              "      <td>0.7869</td>\n",
              "      <td>4.585</td>\n",
              "      <td>94.03</td>\n",
              "      <td>0.006150</td>\n",
              "      <td>0.04006</td>\n",
              "      <td>0.03832</td>\n",
              "      <td>0.02058</td>\n",
              "      <td>0.02250</td>\n",
              "      <td>0.004571</td>\n",
              "      <td>23.570</td>\n",
              "      <td>25.53</td>\n",
              "      <td>152.50</td>\n",
              "      <td>1709.0</td>\n",
              "      <td>0.14440</td>\n",
              "      <td>0.42450</td>\n",
              "      <td>0.4504</td>\n",
              "      <td>0.2430</td>\n",
              "      <td>0.3613</td>\n",
              "      <td>0.08758</td>\n",
              "      <td>0</td>\n",
              "    </tr>\n",
              "    <tr>\n",
              "      <th>3</th>\n",
              "      <td>11.42</td>\n",
              "      <td>20.38</td>\n",
              "      <td>77.58</td>\n",
              "      <td>386.1</td>\n",
              "      <td>0.14250</td>\n",
              "      <td>0.28390</td>\n",
              "      <td>0.24140</td>\n",
              "      <td>0.10520</td>\n",
              "      <td>0.2597</td>\n",
              "      <td>0.09744</td>\n",
              "      <td>0.4956</td>\n",
              "      <td>1.1560</td>\n",
              "      <td>3.445</td>\n",
              "      <td>27.23</td>\n",
              "      <td>0.009110</td>\n",
              "      <td>0.07458</td>\n",
              "      <td>0.05661</td>\n",
              "      <td>0.01867</td>\n",
              "      <td>0.05963</td>\n",
              "      <td>0.009208</td>\n",
              "      <td>14.910</td>\n",
              "      <td>26.50</td>\n",
              "      <td>98.87</td>\n",
              "      <td>567.7</td>\n",
              "      <td>0.20980</td>\n",
              "      <td>0.86630</td>\n",
              "      <td>0.6869</td>\n",
              "      <td>0.2575</td>\n",
              "      <td>0.6638</td>\n",
              "      <td>0.17300</td>\n",
              "      <td>0</td>\n",
              "    </tr>\n",
              "    <tr>\n",
              "      <th>4</th>\n",
              "      <td>20.29</td>\n",
              "      <td>14.34</td>\n",
              "      <td>135.10</td>\n",
              "      <td>1297.0</td>\n",
              "      <td>0.10030</td>\n",
              "      <td>0.13280</td>\n",
              "      <td>0.19800</td>\n",
              "      <td>0.10430</td>\n",
              "      <td>0.1809</td>\n",
              "      <td>0.05883</td>\n",
              "      <td>0.7572</td>\n",
              "      <td>0.7813</td>\n",
              "      <td>5.438</td>\n",
              "      <td>94.44</td>\n",
              "      <td>0.011490</td>\n",
              "      <td>0.02461</td>\n",
              "      <td>0.05688</td>\n",
              "      <td>0.01885</td>\n",
              "      <td>0.01756</td>\n",
              "      <td>0.005115</td>\n",
              "      <td>22.540</td>\n",
              "      <td>16.67</td>\n",
              "      <td>152.20</td>\n",
              "      <td>1575.0</td>\n",
              "      <td>0.13740</td>\n",
              "      <td>0.20500</td>\n",
              "      <td>0.4000</td>\n",
              "      <td>0.1625</td>\n",
              "      <td>0.2364</td>\n",
              "      <td>0.07678</td>\n",
              "      <td>0</td>\n",
              "    </tr>\n",
              "    <tr>\n",
              "      <th>...</th>\n",
              "      <td>...</td>\n",
              "      <td>...</td>\n",
              "      <td>...</td>\n",
              "      <td>...</td>\n",
              "      <td>...</td>\n",
              "      <td>...</td>\n",
              "      <td>...</td>\n",
              "      <td>...</td>\n",
              "      <td>...</td>\n",
              "      <td>...</td>\n",
              "      <td>...</td>\n",
              "      <td>...</td>\n",
              "      <td>...</td>\n",
              "      <td>...</td>\n",
              "      <td>...</td>\n",
              "      <td>...</td>\n",
              "      <td>...</td>\n",
              "      <td>...</td>\n",
              "      <td>...</td>\n",
              "      <td>...</td>\n",
              "      <td>...</td>\n",
              "      <td>...</td>\n",
              "      <td>...</td>\n",
              "      <td>...</td>\n",
              "      <td>...</td>\n",
              "      <td>...</td>\n",
              "      <td>...</td>\n",
              "      <td>...</td>\n",
              "      <td>...</td>\n",
              "      <td>...</td>\n",
              "      <td>...</td>\n",
              "    </tr>\n",
              "    <tr>\n",
              "      <th>564</th>\n",
              "      <td>21.56</td>\n",
              "      <td>22.39</td>\n",
              "      <td>142.00</td>\n",
              "      <td>1479.0</td>\n",
              "      <td>0.11100</td>\n",
              "      <td>0.11590</td>\n",
              "      <td>0.24390</td>\n",
              "      <td>0.13890</td>\n",
              "      <td>0.1726</td>\n",
              "      <td>0.05623</td>\n",
              "      <td>1.1760</td>\n",
              "      <td>1.2560</td>\n",
              "      <td>7.673</td>\n",
              "      <td>158.70</td>\n",
              "      <td>0.010300</td>\n",
              "      <td>0.02891</td>\n",
              "      <td>0.05198</td>\n",
              "      <td>0.02454</td>\n",
              "      <td>0.01114</td>\n",
              "      <td>0.004239</td>\n",
              "      <td>25.450</td>\n",
              "      <td>26.40</td>\n",
              "      <td>166.10</td>\n",
              "      <td>2027.0</td>\n",
              "      <td>0.14100</td>\n",
              "      <td>0.21130</td>\n",
              "      <td>0.4107</td>\n",
              "      <td>0.2216</td>\n",
              "      <td>0.2060</td>\n",
              "      <td>0.07115</td>\n",
              "      <td>0</td>\n",
              "    </tr>\n",
              "    <tr>\n",
              "      <th>565</th>\n",
              "      <td>20.13</td>\n",
              "      <td>28.25</td>\n",
              "      <td>131.20</td>\n",
              "      <td>1261.0</td>\n",
              "      <td>0.09780</td>\n",
              "      <td>0.10340</td>\n",
              "      <td>0.14400</td>\n",
              "      <td>0.09791</td>\n",
              "      <td>0.1752</td>\n",
              "      <td>0.05533</td>\n",
              "      <td>0.7655</td>\n",
              "      <td>2.4630</td>\n",
              "      <td>5.203</td>\n",
              "      <td>99.04</td>\n",
              "      <td>0.005769</td>\n",
              "      <td>0.02423</td>\n",
              "      <td>0.03950</td>\n",
              "      <td>0.01678</td>\n",
              "      <td>0.01898</td>\n",
              "      <td>0.002498</td>\n",
              "      <td>23.690</td>\n",
              "      <td>38.25</td>\n",
              "      <td>155.00</td>\n",
              "      <td>1731.0</td>\n",
              "      <td>0.11660</td>\n",
              "      <td>0.19220</td>\n",
              "      <td>0.3215</td>\n",
              "      <td>0.1628</td>\n",
              "      <td>0.2572</td>\n",
              "      <td>0.06637</td>\n",
              "      <td>0</td>\n",
              "    </tr>\n",
              "    <tr>\n",
              "      <th>566</th>\n",
              "      <td>16.60</td>\n",
              "      <td>28.08</td>\n",
              "      <td>108.30</td>\n",
              "      <td>858.1</td>\n",
              "      <td>0.08455</td>\n",
              "      <td>0.10230</td>\n",
              "      <td>0.09251</td>\n",
              "      <td>0.05302</td>\n",
              "      <td>0.1590</td>\n",
              "      <td>0.05648</td>\n",
              "      <td>0.4564</td>\n",
              "      <td>1.0750</td>\n",
              "      <td>3.425</td>\n",
              "      <td>48.55</td>\n",
              "      <td>0.005903</td>\n",
              "      <td>0.03731</td>\n",
              "      <td>0.04730</td>\n",
              "      <td>0.01557</td>\n",
              "      <td>0.01318</td>\n",
              "      <td>0.003892</td>\n",
              "      <td>18.980</td>\n",
              "      <td>34.12</td>\n",
              "      <td>126.70</td>\n",
              "      <td>1124.0</td>\n",
              "      <td>0.11390</td>\n",
              "      <td>0.30940</td>\n",
              "      <td>0.3403</td>\n",
              "      <td>0.1418</td>\n",
              "      <td>0.2218</td>\n",
              "      <td>0.07820</td>\n",
              "      <td>0</td>\n",
              "    </tr>\n",
              "    <tr>\n",
              "      <th>567</th>\n",
              "      <td>20.60</td>\n",
              "      <td>29.33</td>\n",
              "      <td>140.10</td>\n",
              "      <td>1265.0</td>\n",
              "      <td>0.11780</td>\n",
              "      <td>0.27700</td>\n",
              "      <td>0.35140</td>\n",
              "      <td>0.15200</td>\n",
              "      <td>0.2397</td>\n",
              "      <td>0.07016</td>\n",
              "      <td>0.7260</td>\n",
              "      <td>1.5950</td>\n",
              "      <td>5.772</td>\n",
              "      <td>86.22</td>\n",
              "      <td>0.006522</td>\n",
              "      <td>0.06158</td>\n",
              "      <td>0.07117</td>\n",
              "      <td>0.01664</td>\n",
              "      <td>0.02324</td>\n",
              "      <td>0.006185</td>\n",
              "      <td>25.740</td>\n",
              "      <td>39.42</td>\n",
              "      <td>184.60</td>\n",
              "      <td>1821.0</td>\n",
              "      <td>0.16500</td>\n",
              "      <td>0.86810</td>\n",
              "      <td>0.9387</td>\n",
              "      <td>0.2650</td>\n",
              "      <td>0.4087</td>\n",
              "      <td>0.12400</td>\n",
              "      <td>0</td>\n",
              "    </tr>\n",
              "    <tr>\n",
              "      <th>568</th>\n",
              "      <td>7.76</td>\n",
              "      <td>24.54</td>\n",
              "      <td>47.92</td>\n",
              "      <td>181.0</td>\n",
              "      <td>0.05263</td>\n",
              "      <td>0.04362</td>\n",
              "      <td>0.00000</td>\n",
              "      <td>0.00000</td>\n",
              "      <td>0.1587</td>\n",
              "      <td>0.05884</td>\n",
              "      <td>0.3857</td>\n",
              "      <td>1.4280</td>\n",
              "      <td>2.548</td>\n",
              "      <td>19.15</td>\n",
              "      <td>0.007189</td>\n",
              "      <td>0.00466</td>\n",
              "      <td>0.00000</td>\n",
              "      <td>0.00000</td>\n",
              "      <td>0.02676</td>\n",
              "      <td>0.002783</td>\n",
              "      <td>9.456</td>\n",
              "      <td>30.37</td>\n",
              "      <td>59.16</td>\n",
              "      <td>268.6</td>\n",
              "      <td>0.08996</td>\n",
              "      <td>0.06444</td>\n",
              "      <td>0.0000</td>\n",
              "      <td>0.0000</td>\n",
              "      <td>0.2871</td>\n",
              "      <td>0.07039</td>\n",
              "      <td>1</td>\n",
              "    </tr>\n",
              "  </tbody>\n",
              "</table>\n",
              "<p>569 rows × 31 columns</p>\n",
              "</div>"
            ],
            "text/plain": [
              "     mean radius  mean texture  ...  worst fractal dimension  Target\n",
              "0          17.99         10.38  ...                  0.11890       0\n",
              "1          20.57         17.77  ...                  0.08902       0\n",
              "2          19.69         21.25  ...                  0.08758       0\n",
              "3          11.42         20.38  ...                  0.17300       0\n",
              "4          20.29         14.34  ...                  0.07678       0\n",
              "..           ...           ...  ...                      ...     ...\n",
              "564        21.56         22.39  ...                  0.07115       0\n",
              "565        20.13         28.25  ...                  0.06637       0\n",
              "566        16.60         28.08  ...                  0.07820       0\n",
              "567        20.60         29.33  ...                  0.12400       0\n",
              "568         7.76         24.54  ...                  0.07039       1\n",
              "\n",
              "[569 rows x 31 columns]"
            ]
          },
          "metadata": {
            "tags": []
          },
          "execution_count": 2
        }
      ]
    },
    {
      "cell_type": "code",
      "metadata": {
        "id": "2nF-Dvyo8BUT",
        "colab_type": "code",
        "outputId": "1e95528b-f3cc-461f-d280-d6b6b3f6441b",
        "colab": {
          "base_uri": "https://localhost:8080/",
          "height": 85
        }
      },
      "source": [
        "## Count the tested Malignant and Benign\n",
        "print(\"Number of features\",dataset.feature_names.size)\n",
        "print(\"Name of the target class\", dataset.target_names)\n",
        "print(\"The number of Malignant\", df[df['Target'] == 0].shape[0])\n",
        "print(\"The number of Benign\", df[df['Target'] == 1].shape[0])"
      ],
      "execution_count": 3,
      "outputs": [
        {
          "output_type": "stream",
          "text": [
            "Number of features 30\n",
            "Name of the target class ['malignant' 'benign']\n",
            "The number of Malignant 212\n",
            "The number of Benign 357\n"
          ],
          "name": "stdout"
        }
      ]
    },
    {
      "cell_type": "markdown",
      "metadata": {
        "id": "U_jNtkfce9Eg",
        "colab_type": "text"
      },
      "source": [
        "Use `seaborn.implot` ([help here](https://seaborn.pydata.org/generated/seaborn.lmplot.html)) to visualize a few features of the dataset. Draw a plot where the x-axis is \"mean radius\", the y-axis is \"mean texture,\" and the color of each datapoint indicates its class. Do this once again for different features for the x- and y-axis and see how the data is distributed. **[2]**\n",
        "\n",
        "Standardizing the data is often critical in machine learning. Show a plot as above, but with two features with very different scales. **[2]**\n",
        "\n",
        "Standardize the data and plot those features again. **[1]**"
      ]
    },
    {
      "cell_type": "code",
      "metadata": {
        "id": "A5equ6ied8eg",
        "colab_type": "code",
        "outputId": "f26e175f-8039-488c-dce2-239a522aa226",
        "colab": {
          "base_uri": "https://localhost:8080/",
          "height": 440
        }
      },
      "source": [
        "### YOUR CODE HERE ###\n",
        "## Plot the x-axis is \"mean radius\" and y-axis is \"mean texture\", color of each datapoint indicates its class\n",
        "import seaborn as sns\n",
        "from sklearn import preprocessing\n",
        "sns.lmplot(x = \"mean radius\", y = \"mean texture\", hue = \"Target\", data = df)"
      ],
      "execution_count": 4,
      "outputs": [
        {
          "output_type": "stream",
          "text": [
            "/usr/local/lib/python3.6/dist-packages/statsmodels/tools/_testing.py:19: FutureWarning: pandas.util.testing is deprecated. Use the functions in the public API at pandas.testing instead.\n",
            "  import pandas.util.testing as tm\n"
          ],
          "name": "stderr"
        },
        {
          "output_type": "execute_result",
          "data": {
            "text/plain": [
              "<seaborn.axisgrid.FacetGrid at 0x7f7c2fd28668>"
            ]
          },
          "metadata": {
            "tags": []
          },
          "execution_count": 4
        },
        {
          "output_type": "display_data",
          "data": {
            "image/png": "[encoded data removed]",
            "text/plain": [
              "<Figure size 402.375x360 with 1 Axes>"
            ]
          },
          "metadata": {
            "tags": [],
            "needs_background": "light"
          }
        }
      ]
    },
    {
      "cell_type": "code",
      "metadata": {
        "id": "H90AvX7elKsR",
        "colab_type": "code",
        "outputId": "bb10498a-3379-4c82-d036-39bd6ab2b671",
        "colab": {
          "base_uri": "https://localhost:8080/",
          "height": 386
        }
      },
      "source": [
        "## Do this once again for different features for the x- and y-axis and see how the data is distributed\n",
        "sns.lmplot(x = \"mean area\", y = \"mean smoothness\", hue = \"Target\", data = df)"
      ],
      "execution_count": 5,
      "outputs": [
        {
          "output_type": "execute_result",
          "data": {
            "text/plain": [
              "<seaborn.axisgrid.FacetGrid at 0x7f7c2d42af28>"
            ]
          },
          "metadata": {
            "tags": []
          },
          "execution_count": 5
        },
        {
          "output_type": "display_data",
          "data": {
            "image/png": "[encoded data removed]",
            "text/plain": [
              "<Figure size 402.375x360 with 1 Axes>"
            ]
          },
          "metadata": {
            "tags": [],
            "needs_background": "light"
          }
        }
      ]
    },
    {
      "cell_type": "markdown",
      "metadata": {
        "id": "W-8OyJHFmBM5",
        "colab_type": "text"
      },
      "source": [
        "#**Comment:**\n",
        "\n",
        "When x-axis changes to feature \"mean area\" and y-axis changes to \"mean smoothness\", keep the same level of the smoothness and we can see the areas for most malignant are larger than benign."
      ]
    },
    {
      "cell_type": "code",
      "metadata": {
        "id": "lauVssaiHo03",
        "colab_type": "code",
        "outputId": "ff7e1ab3-958f-439b-a9bb-6ef8671244a7",
        "colab": {
          "base_uri": "https://localhost:8080/",
          "height": 386
        }
      },
      "source": [
        "## Standardize the data and plot those features again.\n",
        "names = df.columns\n",
        "scaler = preprocessing.StandardScaler()\n",
        "standard_data = scaler.fit_transform(dataset.data)\n",
        "standard_df = pd.DataFrame(data = standard_data, columns = dataset.feature_names)\n",
        "standard_df['Target'] = dataset.target\n",
        "sns.lmplot(x = \"mean area\", y = \"mean smoothness\", hue = \"Target\", data = standard_df)"
      ],
      "execution_count": 6,
      "outputs": [
        {
          "output_type": "execute_result",
          "data": {
            "text/plain": [
              "<seaborn.axisgrid.FacetGrid at 0x7f7c2cf7e240>"
            ]
          },
          "metadata": {
            "tags": []
          },
          "execution_count": 6
        },
        {
          "output_type": "display_data",
          "data": {
            "image/png": "[encoded data removed]",
            "text/plain": [
              "<Figure size 402.375x360 with 1 Axes>"
            ]
          },
          "metadata": {
            "tags": [],
            "needs_background": "light"
          }
        }
      ]
    },
    {
      "cell_type": "markdown",
      "metadata": {
        "id": "Sgms_trUo3zU",
        "colab_type": "text"
      },
      "source": [
        "#**Comment on standardize data**\n",
        "\n",
        "Before standardize, the x-axis is in range 0-2500 and y-axis is in range 0-0.17, which are quite different scale ranges. After standardize, the distribution of the data not change but the range of x and y axis become closer, x-axis is from -2 to 5 and y-axis is from -4 to 5."
      ]
    },
    {
      "cell_type": "markdown",
      "metadata": {
        "id": "aBmo0-W1yZFs",
        "colab_type": "text"
      },
      "source": [
        "## Part 2: KNN Classifier [2 Marks]\n",
        "We are going to create a KNN classifier to predict whether a patient has a malignant or benign tumor. \n",
        "\n",
        "\n",
        "It is best practice to have a training set (from which there is a rotating validation subset) and test set. The main aim here is to obtain the best accuracy we can on the test set. To tune `k` (our hyperparameter), we employ cross-validation ([Help](https://scikit-learn.org/stable/modules/cross_validation.html)). Cross-validation automatically selects validation subsets from the data you send it (each of the folds is used as validation).\n",
        "\n",
        "First, split the dataset into a train and a test set (80:20). The test set is set aside (untouched) for final evaluation, once hyperparameter optimization is complete.\n",
        "Follow these steps: **[2]**\n",
        "\n",
        "* Using cross-validation, report mean cross-validation accuracy for a KNN classifier where you sweep k from 1 to 100. **Report your findings on a plot.**\n",
        "\n",
        "* Base on this plot (that you just ran), find the best 'k' and report your test accuracy.\n",
        "\n",
        "* Randomly select 5 different 'k', and use them on the test set to see if the cross-validation really found a good 'k' for us.\n"
      ]
    },
    {
      "cell_type": "code",
      "metadata": {
        "id": "cyEV-mVSAMaV",
        "colab_type": "code",
        "colab": {}
      },
      "source": [
        "### YOUR CODE HERE ###\n",
        "from sklearn.model_selection import train_test_split\n",
        "from sklearn.model_selection import cross_val_score\n",
        "from sklearn import neighbors\n",
        "import matplotlib.pyplot as plt\n",
        "%matplotlib inline\n",
        "## Split the dataset into a train and a test set (80:20)\n",
        "## Standardize the training dataset and test dataset separate\n",
        "\n",
        "def datasplit(data):\n",
        "  X_train, X_test, y_train, y_test = train_test_split(data, dataset.target, test_size = 0.2, random_state = 1)\n",
        "  scaler.fit(X_train)\n",
        "  X_stand_train = scaler.transform(X_train)\n",
        "  X_stand_test = scaler.transform(X_test)\n",
        "  return X_stand_train, y_train, X_stand_test, y_test"
      ],
      "execution_count": 0,
      "outputs": []
    },
    {
      "cell_type": "code",
      "metadata": {
        "id": "1ynVcZN-LXkv",
        "colab_type": "code",
        "outputId": "5c40f83d-dd23-48ea-8099-23554d5c4176",
        "colab": {
          "base_uri": "https://localhost:8080/",
          "height": 337
        }
      },
      "source": [
        "## Complete hyperparameter optimization\n",
        "cv_scores = []\n",
        "k_range = range(1,100,1)\n",
        "X_stand_train = datasplit(dataset.data)[0]\n",
        "y_train = datasplit(dataset.data)[1]\n",
        "for k in k_range:\n",
        "    knn = neighbors.KNeighborsClassifier(n_neighbors = k)\n",
        "    scores = cross_val_score(knn, X_stand_train, y_train, cv = 5, scoring = 'accuracy')  \n",
        "    cv_scores.append(scores.mean()) # cv_scores is a list contains score mean for each k\n",
        "## Find the max accuracy and the correspond k value\n",
        "max_cross_val_score = max(cv_scores) \n",
        "max_cross_val_score_classifier = k_range[cv_scores.index(max_cross_val_score)]\n",
        "\n",
        "## Report your findings on a plot\n",
        "plt.plot(k_range,cv_scores)\n",
        "plt.xlabel(\"Value of K for KNN\")\n",
        "plt.ylabel(\"Cross validated accuracy\")\n",
        "plt.ylim((0.90,0.97))\n",
        "\n",
        "## Report mean cross-validation accuracy\n",
        "print(\"The mean cross-validation accuracies for a KNN classifier in range 1 to 100 are:\", cv_scores )\n",
        "print(\"The best 'k'(hyperparameter) value in range 1 to 100 is:\", max_cross_val_score_classifier ,\", the corresponding accuracy is: %0.2f\" %(max_cross_val_score*100), \"%\")"
      ],
      "execution_count": 8,
      "outputs": [
        {
          "output_type": "stream",
          "text": [
            "The mean cross-validation accuracies for a KNN classifier in range 1 to 100 are: [0.9604395604395604, 0.9604395604395604, 0.9692307692307693, 0.9604395604395604, 0.964835164835165, 0.9604395604395606, 0.9670329670329672, 0.964835164835165, 0.964835164835165, 0.9670329670329672, 0.9604395604395606, 0.9604395604395606, 0.9538461538461538, 0.9604395604395606, 0.9538461538461538, 0.9582417582417582, 0.9494505494505494, 0.9494505494505494, 0.9472527472527472, 0.9472527472527472, 0.9494505494505494, 0.9538461538461538, 0.9494505494505494, 0.9516483516483516, 0.9516483516483516, 0.9494505494505494, 0.9494505494505494, 0.9516483516483516, 0.9516483516483516, 0.9494505494505494, 0.9472527472527472, 0.9472527472527472, 0.9494505494505494, 0.9516483516483516, 0.9472527472527472, 0.9472527472527472, 0.945054945054945, 0.945054945054945, 0.945054945054945, 0.9472527472527472, 0.9428571428571428, 0.9428571428571428, 0.9428571428571428, 0.9428571428571428, 0.9428571428571428, 0.9428571428571428, 0.9428571428571428, 0.9428571428571428, 0.9428571428571428, 0.9428571428571428, 0.9428571428571428, 0.9406593406593406, 0.9428571428571428, 0.945054945054945, 0.945054945054945, 0.9472527472527472, 0.9406593406593406, 0.9406593406593406, 0.9384615384615385, 0.9384615384615385, 0.9384615384615385, 0.9384615384615385, 0.9384615384615385, 0.9384615384615385, 0.9384615384615385, 0.9384615384615385, 0.9384615384615385, 0.9384615384615385, 0.9384615384615385, 0.9384615384615385, 0.9384615384615385, 0.9384615384615385, 0.9340659340659341, 0.9362637362637363, 0.9362637362637363, 0.9362637362637363, 0.9362637362637363, 0.9340659340659341, 0.9362637362637363, 0.9340659340659341, 0.9318681318681319, 0.9340659340659341, 0.9318681318681319, 0.9340659340659341, 0.9274725274725275, 0.9318681318681319, 0.9274725274725275, 0.9296703296703297, 0.9274725274725275, 0.9296703296703297, 0.9296703296703297, 0.9296703296703297, 0.9296703296703297, 0.9296703296703297, 0.9296703296703297, 0.9318681318681319, 0.9318681318681319, 0.9318681318681319, 0.9252747252747252]\n",
            "The best 'k'(hyperparameter) value in range 1 to 100 is: 3 , the corresponding accuracy is: 96.92 %\n"
          ],
          "name": "stdout"
        },
        {
          "output_type": "display_data",
          "data": {
            "image/png": "[encoded data removed]",
            "text/plain": [
              "<Figure size 432x288 with 1 Axes>"
            ]
          },
          "metadata": {
            "tags": [],
            "needs_background": "light"
          }
        }
      ]
    },
    {
      "cell_type": "markdown",
      "metadata": {
        "id": "XdS-deV-WEHv",
        "colab_type": "text"
      },
      "source": [
        "#**Comment:**\n",
        "\n",
        "The best 'k'(hyperparameter) value in range 1 to 100 is: 3 , the corresponding accuracy is: 96.92 %"
      ]
    },
    {
      "cell_type": "code",
      "metadata": {
        "id": "mm44BX5cuCez",
        "colab_type": "code",
        "outputId": "2f35addc-9417-4192-96f1-c8c4b7ff644c",
        "colab": {
          "base_uri": "https://localhost:8080/",
          "height": 296
        }
      },
      "source": [
        "## Zoom in the plot to see k value for the largest accuracy \n",
        "plt.plot(k_range,cv_scores)\n",
        "plt.xlabel(\"Value of K for KNN\")\n",
        "plt.ylabel(\"Cross validated accuracy\")\n",
        "plt.xlim(0,20)"
      ],
      "execution_count": 9,
      "outputs": [
        {
          "output_type": "execute_result",
          "data": {
            "text/plain": [
              "(0.0, 20.0)"
            ]
          },
          "metadata": {
            "tags": []
          },
          "execution_count": 9
        },
        {
          "output_type": "display_data",
          "data": {
            "image/png": "[encoded data removed]",
            "text/plain": [
              "<Figure size 432x288 with 1 Axes>"
            ]
          },
          "metadata": {
            "tags": [],
            "needs_background": "light"
          }
        }
      ]
    },
    {
      "cell_type": "markdown",
      "metadata": {
        "id": "rYAB8Q6at-72",
        "colab_type": "text"
      },
      "source": [
        "#**Comment:**\n",
        "\n",
        "By zooming in the plot we can see the k value is 3 and the accuracy is 96.92%\n",
        "\n",
        "\n",
        "\n"
      ]
    },
    {
      "cell_type": "code",
      "metadata": {
        "id": "98w2tHHmwsD0",
        "colab_type": "code",
        "outputId": "d100001e-b634-4fee-8450-2ac5eebc7a82",
        "colab": {
          "base_uri": "https://localhost:8080/",
          "height": 102
        }
      },
      "source": [
        "## Randomly select 5 different 'k', and use them on the test set to see if the cross-validation really found a good 'k' for us.\n",
        "import random\n",
        "rand_k = random.sample(range(1, 100), 5)\n",
        "for k in rand_k:\n",
        "  knn = neighbors.KNeighborsClassifier(n_neighbors = k)\n",
        "  scores = cross_val_score(knn, X_stand_train, y_train, cv = 5, scoring = 'accuracy')\n",
        "  print(\"When k is\", k,\"the cross vaildation accuracy is: %0.2f\" %(scores.mean()*100), \"%\")"
      ],
      "execution_count": 10,
      "outputs": [
        {
          "output_type": "stream",
          "text": [
            "When k is 88 the cross vaildation accuracy is: 92.97 %\n",
            "When k is 75 the cross vaildation accuracy is: 93.63 %\n",
            "When k is 38 the cross vaildation accuracy is: 94.51 %\n",
            "When k is 65 the cross vaildation accuracy is: 93.85 %\n",
            "When k is 96 the cross vaildation accuracy is: 93.19 %\n"
          ],
          "name": "stdout"
        }
      ]
    },
    {
      "cell_type": "markdown",
      "metadata": {
        "id": "ftA5DgiikGEB",
        "colab_type": "text"
      },
      "source": [
        "## Part 3: Playing with the features [3 Marks]\n",
        "In the last practice, we used all the features in our dataset to classify the tumors. Now we want to see:  **[3]**\n",
        "* Are all of these features necessary to get the same level of accuracy on the test set? \n",
        "* Is it possible to get better accuracy with fewer features? \n",
        "* Which features are essential to get 95\\% of the accuracy? The minimum number of features is desired.\n",
        "\n",
        "You should develop some experiments to investigate the answer of these questions. **For each part summarize your experiments in tables or plots.**"
      ]
    },
    {
      "cell_type": "markdown",
      "metadata": {
        "id": "jMFIWi2DZv3w",
        "colab_type": "text"
      },
      "source": [
        "# **Basic Idea**\n",
        "*   Drop one of the features at each time\n",
        "*   Calculate the accuracy by applying the remaining features.\n",
        "*   Put that feature back and choose another one to drop.\n",
        "*   Calculate the accuracy by applying the remaining feature again.\n",
        "*   Find the feature that provide the maximum accuracy and drop it from the dataframe.\n",
        "*   Repeat the steps for the remaining features.\n"
      ]
    },
    {
      "cell_type": "code",
      "metadata": {
        "id": "YvzgYb9KRC9B",
        "colab_type": "code",
        "colab": {
          "base_uri": "https://localhost:8080/",
          "height": 34
        },
        "outputId": "f761cd94-1123-4913-e8c0-18fde8f33a9f"
      },
      "source": [
        "## Calculate the test accuracy for 30 features\n",
        "feature_all = df.drop(columns = 'Target') \n",
        "X_stand_test = datasplit(feature_all)[2]\n",
        "y_test = datasplit(feature_all)[3]\n",
        "range_all = range(1,21,1)\n",
        "list_scores_all = []\n",
        "for k_all in range_all:\n",
        "    knn_all = neighbors.KNeighborsClassifier(n_neighbors = k_all)\n",
        "    scores_all = cross_val_score(knn_all, X_stand_test, y_test, cv = 5, scoring = 'accuracy')\n",
        "    list_scores_all.append(scores_all.mean())\n",
        "max_test_score = max(list_scores_all) \n",
        "max_test_score_classifier = range_all[list_scores_all.index(max_test_score )]\n",
        "print(\"Applying all features the test accuracy is: %0.2f\" %(max_test_score*100), \"%\")"
      ],
      "execution_count": 33,
      "outputs": [
        {
          "output_type": "stream",
          "text": [
            "Applying all features the test accuracy is: 94.78 %\n"
          ],
          "name": "stdout"
        }
      ]
    },
    {
      "cell_type": "code",
      "metadata": {
        "id": "8U8arLVRR1Jn",
        "colab_type": "code",
        "outputId": "317ab107-3f71-4cd0-c61f-dcac2c89ef17",
        "colab": {
          "base_uri": "https://localhost:8080/",
          "height": 595
        }
      },
      "source": [
        "## Calaulate the test accuracy for remaining only one feature\n",
        "from prettytable import PrettyTable\n",
        "x = PrettyTable()\n",
        "range_1 = range(1,21,1)\n",
        "names = dataset.feature_names\n",
        "features = df.drop(columns = 'Target') \n",
        "\n",
        "for i in range(0,30,1):\n",
        "  feature_data = features.iloc[:,[i]]\n",
        "  X_stand_test = datasplit(feature_data)[2]\n",
        "  y_test = datasplit(feature_data)[3]\n",
        "  list_scores = []\n",
        "  for k_1 in range_1:\n",
        "    knn_1= neighbors.KNeighborsClassifier(n_neighbors = k_1)\n",
        "    scores_1 = cross_val_score(knn_1, X_stand_test, y_test, cv = 5, scoring = 'accuracy')\n",
        "    list_scores.append(scores_1.mean())\n",
        "  max_scores = np.array(max(list_scores)).tolist()\n",
        "  x.field_names = [\"Feature\", \"Accuracy\"]\n",
        "  x.add_row([names[i], \"%0.2f\" %(max_scores*100)])\n",
        "print(x)"
      ],
      "execution_count": 46,
      "outputs": [
        {
          "output_type": "stream",
          "text": [
            "+-------------------------+----------+\n",
            "|         Feature         | Accuracy |\n",
            "+-------------------------+----------+\n",
            "|       mean radius       |  87.63   |\n",
            "|       mean texture      |  71.86   |\n",
            "|      mean perimeter     |  87.63   |\n",
            "|        mean area        |  86.76   |\n",
            "|     mean smoothness     |  72.96   |\n",
            "|     mean compactness    |  74.66   |\n",
            "|      mean concavity     |  86.01   |\n",
            "|   mean concave points   |  91.26   |\n",
            "|      mean symmetry      |  69.45   |\n",
            "|  mean fractal dimension |  61.38   |\n",
            "|       radius error      |  83.44   |\n",
            "|      texture error      |  62.29   |\n",
            "|     perimeter error     |  83.44   |\n",
            "|        area error       |  86.01   |\n",
            "|     smoothness error    |  61.42   |\n",
            "|    compactness error    |  68.58   |\n",
            "|     concavity error     |  74.62   |\n",
            "|   concave points error  |  72.85   |\n",
            "|      symmetry error     |  63.16   |\n",
            "| fractal dimension error |  61.42   |\n",
            "|       worst radius      |  91.15   |\n",
            "|      worst texture      |  71.82   |\n",
            "|     worst perimeter     |  91.19   |\n",
            "|        worst area       |  91.19   |\n",
            "|     worst smoothness    |  74.66   |\n",
            "|    worst compactness    |  76.40   |\n",
            "|     worst concavity     |  79.84   |\n",
            "|   worst concave points  |  89.45   |\n",
            "|      worst symmetry     |  73.75   |\n",
            "| worst fractal dimension |  72.89   |\n",
            "+-------------------------+----------+\n"
          ],
          "name": "stdout"
        }
      ]
    },
    {
      "cell_type": "code",
      "metadata": {
        "id": "YXxQWob1x-R4",
        "colab_type": "code",
        "outputId": "076194cf-2c4d-42c6-9999-4a3433415e27",
        "colab": {
          "base_uri": "https://localhost:8080/",
          "height": 578
        }
      },
      "source": [
        "from prettytable import PrettyTable\n",
        "x = PrettyTable()\n",
        "feature_remain = df.drop(columns = 'Target') \n",
        "name_remain = dataset.feature_names\n",
        "for k in range(0,29,1):\n",
        "  Dict = {}\n",
        "  for j in range(0,30-k,1):\n",
        "    feature_drop = feature_remain.drop(columns = name_remain[j])\n",
        "    X_stand_test = datasplit(feature_drop)[2]\n",
        "    y_test = datasplit(feature_drop)[3]\n",
        "    back_scores = []\n",
        "    max_scores = []\n",
        "    back_range = range(1,21,1)\n",
        "    for k_back in back_range:\n",
        "      knn_back = neighbors.KNeighborsClassifier(n_neighbors = k_back)\n",
        "      scores_back = cross_val_score(knn_back, X_stand_test, y_test, cv = 5, scoring = 'accuracy')\n",
        "      back_scores.append(scores_back.mean())\n",
        "    Dict[j] = max(back_scores)\n",
        "  #sorted_order = sorted(Dict.items(),key = lambda x: x[1],reverse = True)\n",
        "  sorted_order = sorted(Dict.items(),key = lambda x: x[1])\n",
        "  idx = []\n",
        "  for i in sorted_order:\n",
        "    idx.append(i[0])\n",
        "  feature_remain = feature_remain.drop(columns = name_remain[idx[-1]])\n",
        "  x.field_names = [\"Dropped Feature\", \"Remain Feature Number\", \"Accuracy\"]\n",
        "  x.add_row([name_remain[idx[-1]], (29-k), \"%0.2f\" %(sorted_order[0][1]*100)])\n",
        "  #print(\"Dropped feature is\", name_remain[idx[-1]],\"remain\", (29-k), \"features and accuracy is %0.2f\" %(sorted_order[0][1]*100),\"%\")\n",
        "  name_remain = np.delete(name_remain, idx[-1])\n",
        "print(x)"
      ],
      "execution_count": 48,
      "outputs": [
        {
          "output_type": "stream",
          "text": [
            "+-------------------------+-----------------------+----------+\n",
            "|     Dropped Feature     | Remain Feature Number | Accuracy |\n",
            "+-------------------------+-----------------------+----------+\n",
            "|      worst symmetry     |           29          |  93.91   |\n",
            "|      worst texture      |           28          |  94.78   |\n",
            "|   worst concave points  |           27          |  94.78   |\n",
            "| fractal dimension error |           26          |  93.91   |\n",
            "|    worst compactness    |           25          |  93.91   |\n",
            "|      symmetry error     |           24          |  93.91   |\n",
            "|        worst area       |           23          |  93.91   |\n",
            "|     concavity error     |           22          |  93.91   |\n",
            "| worst fractal dimension |           21          |  93.91   |\n",
            "|    compactness error    |           20          |  93.04   |\n",
            "|        area error       |           19          |  93.00   |\n",
            "|     mean compactness    |           18          |  92.17   |\n",
            "|     worst perimeter     |           17          |  93.91   |\n",
            "|      texture error      |           16          |  93.91   |\n",
            "|      mean concavity     |           15          |  94.74   |\n",
            "|   concave points error  |           14          |  94.78   |\n",
            "|     smoothness error    |           13          |  94.78   |\n",
            "|     perimeter error     |           12          |  93.91   |\n",
            "|      mean symmetry      |           11          |  93.04   |\n",
            "|       worst radius      |           10          |  94.78   |\n",
            "|     mean smoothness     |           9           |  94.74   |\n",
            "|  mean fractal dimension |           8           |  91.26   |\n",
            "|        mean area        |           7           |  92.13   |\n",
            "|       mean texture      |           6           |  94.70   |\n",
            "|     worst concavity     |           5           |  93.00   |\n",
            "|   mean concave points   |           4           |  93.00   |\n",
            "|      mean perimeter     |           3           |  88.54   |\n",
            "|       radius error      |           2           |  86.09   |\n",
            "|     worst smoothness    |           1           |  74.66   |\n",
            "+-------------------------+-----------------------+----------+\n"
          ],
          "name": "stdout"
        }
      ]
    },
    {
      "cell_type": "markdown",
      "metadata": {
        "id": "nGbDjkQUH39h",
        "colab_type": "text"
      },
      "source": [
        "# **Comment**\n",
        "\n",
        "**Are all of these features necessary to get the same level of accuracy on the test set?**\n",
        "\n",
        "From above result, not all of these features necessary to get the same level of accuracy on the test set. For example, applying 21 features will get the same level of the test accuracy as applying 29 features to calculate the accuracy."
      ]
    },
    {
      "cell_type": "markdown",
      "metadata": {
        "id": "m1UwGZApVaCo",
        "colab_type": "text"
      },
      "source": [
        "**Is it possible to get better accuracy with fewer features?**\n",
        "\n",
        "It is possible to get better accuracy with fewer features. From the second Table, applying 29 features the result accuracy is 93.91% but applying 6 features we can get 94.74 accuracy.\n",
        "\n",
        "When remaining number of features is 3, we get 88.54% test accuracy. But if only count the test accuracy for **mean concave points** feature: mean concave points, accuracy is 91.26 %, which show that specific one feature will get a better accuracy compare with the accuracy obtained from the 3 features.\n"
      ]
    },
    {
      "cell_type": "markdown",
      "metadata": {
        "id": "Iz7h_0mNdY8A",
        "colab_type": "text"
      },
      "source": [
        "**Which features are essential to get 95\\% of the accuracy? The minimum number of features is desired.**\n",
        "\n",
        "95% of the test accuracy is 90.04%.\n",
        "\n",
        "From the first Table, by applying 1 features, the accuracy can be achieved to 91%, such as: **mean concave points**, **worst radius**, **worst area**. So that at least 1 feature is desired to get the 95% of the accuracy."
      ]
    },
    {
      "cell_type": "markdown",
      "metadata": {
        "id": "GTXjb1sWmDZL",
        "colab_type": "text"
      },
      "source": [
        "## Part 4: Standardization [3 Marks]\n",
        "Try to apply KNN with and without standardizing the data ([Help](https://scikit-learn.org/stable/modules/preprocessing.html)). Report how standardization affects the accuracy.  **Describe your findings in graphs or tables. [3]**"
      ]
    },
    {
      "cell_type": "code",
      "metadata": {
        "id": "acdJ7EijBYqB",
        "colab_type": "code",
        "outputId": "9b93103e-c444-4698-c1b8-b01283895a68",
        "colab": {
          "base_uri": "https://localhost:8080/",
          "height": 337
        }
      },
      "source": [
        "### HERE ###\n",
        "X_train, X_test, y_train, y_test = train_test_split(dataset.data, dataset.target, test_size = 0.2, random_state = 1)\n",
        "cv_scores = []\n",
        "k_range = range(1,100,1)\n",
        "for k in k_range:\n",
        "    knn = neighbors.KNeighborsClassifier(n_neighbors = k)\n",
        "    scores = cross_val_score(knn, X_train, y_train, cv = 5, scoring = 'accuracy')\n",
        "    cv_scores.append(scores.mean())  \n",
        "\n",
        "## Report your findings on a plot\n",
        "plt.plot(k_range,cv_scores)\n",
        "plt.xlabel(\"Value of K for KNN\")\n",
        "plt.ylabel(\"Cross validated accuracy\")\n",
        "plt.ylim((0.90,0.97))\n",
        "max_cross_val_score = max(cv_scores) \n",
        "max_cross_val_score_classifier = k_range[cv_scores.index(max_cross_val_score)]\n",
        "\n",
        "## Report mean cross-validation accuracy\n",
        "print(\"The mean cross-validation accuracies for a KNN classifier in range 1 to 100 are:\", cv_scores )\n",
        "print(\"The best 'k'(hyperparameter) value in range 1 to 100 is:\", max_cross_val_score_classifier ,\", the corresponding accuracy is: %0.2f\" %(max_cross_val_score*100), \"%\")"
      ],
      "execution_count": 0,
      "outputs": [
        {
          "output_type": "stream",
          "text": [
            "The mean cross-validation accuracies for a KNN classifier in range 1 to 100 are: [0.9120879120879122, 0.8989010989010989, 0.9142857142857144, 0.9098901098901099, 0.9120879120879121, 0.9164835164835164, 0.9164835164835164, 0.9164835164835164, 0.9252747252747253, 0.9230769230769231, 0.9230769230769231, 0.9230769230769231, 0.9252747252747253, 0.9252747252747253, 0.9274725274725275, 0.9274725274725275, 0.9230769230769231, 0.9230769230769231, 0.9164835164835164, 0.9186813186813186, 0.9208791208791208, 0.9186813186813186, 0.9208791208791208, 0.9208791208791208, 0.9186813186813186, 0.9164835164835164, 0.9164835164835164, 0.9164835164835164, 0.9164835164835164, 0.9164835164835164, 0.9208791208791208, 0.9164835164835164, 0.9164835164835164, 0.9186813186813186, 0.9142857142857143, 0.9120879120879121, 0.9120879120879121, 0.9120879120879121, 0.9120879120879121, 0.9098901098901099, 0.9098901098901099, 0.9098901098901099, 0.9054945054945055, 0.9076923076923077, 0.9076923076923077, 0.9076923076923077, 0.9076923076923077, 0.9076923076923077, 0.9076923076923077, 0.9076923076923077, 0.9076923076923077, 0.9098901098901099, 0.9098901098901099, 0.9098901098901099, 0.9098901098901099, 0.9098901098901099, 0.9098901098901099, 0.9098901098901099, 0.9098901098901099, 0.9098901098901099, 0.9098901098901099, 0.9098901098901099, 0.9098901098901099, 0.9098901098901099, 0.9098901098901099, 0.9098901098901099, 0.9120879120879121, 0.9098901098901099, 0.9098901098901099, 0.9098901098901099, 0.9098901098901099, 0.9098901098901099, 0.9098901098901099, 0.9098901098901099, 0.9098901098901099, 0.9098901098901099, 0.9098901098901099, 0.9142857142857143, 0.9142857142857143, 0.9120879120879121, 0.9142857142857143, 0.9142857142857143, 0.9164835164835164, 0.9142857142857143, 0.9164835164835164, 0.9142857142857143, 0.9142857142857143, 0.9164835164835164, 0.9120879120879121, 0.9120879120879121, 0.9120879120879121, 0.9120879120879121, 0.9076923076923077, 0.9098901098901099, 0.9076923076923077, 0.9098901098901099, 0.9098901098901099, 0.9098901098901099, 0.9054945054945055]\n",
            "The best 'k'(hyperparameter) value in range 1 to 100 is: 15 , the corresponding accuracy is: 92.75 %\n"
          ],
          "name": "stdout"
        },
        {
          "output_type": "display_data",
          "data": {
            "image/png": "[encoded data removed]",
            "text/plain": [
              "<Figure size 432x288 with 1 Axes>"
            ]
          },
          "metadata": {
            "tags": [],
            "needs_background": "light"
          }
        }
      ]
    },
    {
      "cell_type": "markdown",
      "metadata": {
        "id": "o6LDwval2bT0",
        "colab_type": "text"
      },
      "source": [
        "# **Comment:**\n",
        "\n",
        "When apply the KNN without standardlizing data, the accuracy decreases from 96.92% to 92.75%."
      ]
    }
  ]
}