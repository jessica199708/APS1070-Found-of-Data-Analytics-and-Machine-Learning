{
  "nbformat": 4,
  "nbformat_minor": 0,
  "metadata": {
    "colab": {
      "name": "Project_4_Jiani Jia.ipynb",
      "provenance": [],
      "collapsed_sections": []
    },
    "kernelspec": {
      "display_name": "Python 3",
      "language": "python",
      "name": "python3"
    },
    "language_info": {
      "codemirror_mode": {
        "name": "ipython",
        "version": 3
      },
      "file_extension": ".py",
      "mimetype": "text/x-python",
      "name": "python",
      "nbconvert_exporter": "python",
      "pygments_lexer": "ipython3",
      "version": "3.7.4"
    }
  },
  "cells": [
    {
      "cell_type": "markdown",
      "metadata": {
        "colab_type": "text",
        "id": "OTpnyUEJrAjE"
      },
      "source": [
        "# Project 4, APS1070 Summer 2020\n",
        "#### **Linear Regression -  20 points**\n",
        "**Deadline: Aug 2, 23:00**\n",
        "\n",
        "**Academic Integrity**\n",
        "\n",
        "This project is individual - it is to be completed on your own. If you have questions, please post your query in the APS1070 Piazza Q&A forums (the answer might be useful to others!).\n",
        "\n",
        "Do not share your code with others, or post your work online. Do not submit code that you have not written yourself. Students suspected of plagiarism on a project, midterm or exam will be referred to the department for formal discipline for breaches of the Student Code of Conduct."
      ]
    },
    {
      "cell_type": "markdown",
      "metadata": {
        "colab_type": "text",
        "id": "fUdJ6xw3rJIG"
      },
      "source": [
        "Please fill out the following:\n",
        "\n",
        "\n",
        "*   Your **name**: **Jiani Jia**\n",
        "*   Your **student number**: **1002226245**\n",
        "\n"
      ]
    },
    {
      "cell_type": "markdown",
      "metadata": {
        "colab_type": "text",
        "id": "o4UwjkNZ3NGk"
      },
      "source": [
        "## Part 1 - Getting Started [1 mark]"
      ]
    },
    {
      "cell_type": "markdown",
      "metadata": {
        "id": "Y62qieYVbct2",
        "colab_type": "text"
      },
      "source": [
        "In this project, we are designing a controller to manage the ailerons of an F16 Aircraft! \n",
        "![Ailerons](https://raw.githubusercontent.com/aps1070-2019/datasets/master/img/airplane.gif) [Ref](https://www.grc.nasa.gov/www/k-12/BGA/Mike/airplane_parts_act.htm) \n",
        "\n",
        "\n",
        "The features describe the airplane's status, and the target is to predict the `Goal` column, which is a command that our controller should issue."
      ]
    },
    {
      "cell_type": "code",
      "metadata": {
        "id": "4L1TzflEhaVh",
        "colab_type": "code",
        "colab": {}
      },
      "source": [
        "import pandas as pd\n",
        "import numpy as np\n",
        "from sklearn.model_selection import train_test_split\n",
        "from sklearn import preprocessing\n",
        "from sklearn.metrics import mean_squared_error\n",
        "import matplotlib.pyplot as plt\n",
        "from sklearn import linear_model"
      ],
      "execution_count": 18,
      "outputs": []
    },
    {
      "cell_type": "code",
      "metadata": {
        "id": "wVI7N2nWbct3",
        "colab_type": "code",
        "colab": {}
      },
      "source": [
        "df = pd.read_csv(\"https://raw.githubusercontent.com/aps1070-2019/datasets/master/F16L.csv\" , skipinitialspace=True)"
      ],
      "execution_count": 2,
      "outputs": []
    },
    {
      "cell_type": "markdown",
      "metadata": {
        "colab_type": "text",
        "id": "MKRMb9Ju3NGl"
      },
      "source": [
        "1. Split the dataset into training/validation sets (80% training, 20% validation). Note: While splitting use the value of **random state=41**.\n",
        "2. Standardize the data using StandardScaler from sklearn."
      ]
    },
    {
      "cell_type": "code",
      "metadata": {
        "id": "ch8Xb5QHhyRd",
        "colab_type": "code",
        "colab": {}
      },
      "source": [
        "## Split the dataset into training/validation sets\n",
        "data = df.drop(columns = 'Goal')\n",
        "target = df['Goal']\n",
        "X_train, X_val, y_train, y_val = train_test_split(data, target, test_size = 0.2, random_state = 41)"
      ],
      "execution_count": 3,
      "outputs": []
    },
    {
      "cell_type": "code",
      "metadata": {
        "id": "z-_iVgGvkLO0",
        "colab_type": "code",
        "colab": {}
      },
      "source": [
        "## Standardize the data using StandardScaler from sklearn\n",
        "scaler = preprocessing.StandardScaler()\n",
        "scaler.fit(X_train)\n",
        "X_train_std = scaler.transform(X_train) \n",
        "X_val_std = scaler.transform(X_val)"
      ],
      "execution_count": 4,
      "outputs": []
    },
    {
      "cell_type": "markdown",
      "metadata": {
        "id": "EQ6KBnbpbcuE",
        "colab_type": "text"
      },
      "source": [
        "## Part 2 - Direct Solution [1 mark]"
      ]
    },
    {
      "cell_type": "markdown",
      "metadata": {
        "colab_type": "text",
        "id": "qh9g1ead3NG-"
      },
      "source": [
        "Implement the direct solution for linear regression on the dataset above (without regularizer).\n",
        "Report training and validation error."
      ]
    },
    {
      "cell_type": "code",
      "metadata": {
        "id": "gTcHh3dGgVWD",
        "colab_type": "code",
        "colab": {}
      },
      "source": [
        "def rmse(yPred, y):\n",
        "    return np.sqrt(mean_squared_error(yPred, y))"
      ],
      "execution_count": 5,
      "outputs": []
    },
    {
      "cell_type": "code",
      "metadata": {
        "id": "1rLMebckv4nL",
        "colab_type": "code",
        "colab": {}
      },
      "source": [
        "## Expanded x and x_val\n",
        "X = np.vstack((np.ones(np.shape(X_train_std)[0]), X_train_std.T)).T\n",
        "X_val = np.vstack((np.ones(np.shape(X_val_std)[0]), X_val_std.T)).T"
      ],
      "execution_count": 6,
      "outputs": []
    },
    {
      "cell_type": "code",
      "metadata": {
        "id": "FzLJgLvy5Re4",
        "colab_type": "code",
        "colab": {}
      },
      "source": [
        "def direct_soultion(X, X_val, Y, Y_val):\n",
        "  opt_weight = np.dot(np.linalg.inv(np.dot(X.T, X)), np.dot(X.T, np.array(Y).reshape(-1,1)))\n",
        "  yPred_train = np.dot(X, opt_weight)\n",
        "  RMSE = rmse(yPred_train, Y)\n",
        "  print('The taining error for direct solution (without regularizer) is', RMSE)\n",
        "\n",
        "  yPred_val = np.dot(X_val, opt_weight)\n",
        "  RMSE_val = rmse(yPred_val, Y_val)\n",
        "  print('The validation error for direct solution (without regularizer) is', RMSE_val)\n",
        "  return opt_weight, RMSE, RMSE_val"
      ],
      "execution_count": 7,
      "outputs": []
    },
    {
      "cell_type": "code",
      "metadata": {
        "id": "O9eQkLabI5AC",
        "colab_type": "code",
        "colab": {
          "base_uri": "https://localhost:8080/",
          "height": 51
        },
        "outputId": "a6f88d7c-7e1e-474c-a254-4be6652affbd"
      },
      "source": [
        "opt_weight, RMSE_ds, RMSE_val_ds = direct_soultion(X, X_val, y_train, y_val)"
      ],
      "execution_count": 8,
      "outputs": [
        {
          "output_type": "stream",
          "text": [
            "The taining error for direct solution (without regularizer) is 0.0001820497133152199\n",
            "The validation error for direct solution (without regularizer) is 0.00018282578955074112\n"
          ],
          "name": "stdout"
        }
      ]
    },
    {
      "cell_type": "markdown",
      "metadata": {
        "colab_type": "text",
        "id": "tceGCk1V3NG_"
      },
      "source": [
        "## Part 3 - Gradient Descent (GD) [2 marks]"
      ]
    },
    {
      "cell_type": "markdown",
      "metadata": {
        "colab_type": "text",
        "id": "v9DMAs3I3NHB"
      },
      "source": [
        "1. Implement gradient descent (full-batch) for linear regression using a fixed learning rate of $\\alpha= 1e-2$. You should compute the gradients yourself! First try to implement it without looking at other resources, but if you need a hint take a look [here](https://towardsdatascience.com/gradient-descent-explanation-implementation-c74005ff7dd1) and [here](https://ml-cheatsheet.readthedocs.io/en/latest/gradient_descent.html).\n",
        "\n",
        "2. Run the gradient descent for a fixed number of epochs (based on convergence) and verify that the results are closely approximate the direct solution."
      ]
    },
    {
      "cell_type": "code",
      "metadata": {
        "id": "Mce_K2p3Is4l",
        "colab_type": "code",
        "colab": {}
      },
      "source": [
        "## Implement gradient descent (full-batch) for linear regression using a fixed learning rate\n",
        "def gradient_descent (X, X_val, y_train, y_val, learning_rate, epoch):\n",
        "  N = X.shape[0]\n",
        "  W = np.zeros([X.shape[1]]).reshape(-1,1)\n",
        "  W_deriv = np.zeros([X.shape[1]]).reshape(-1,1)\n",
        "  RMSE = []\n",
        "  RMSE_val = []\n",
        "  for i in range (epoch):\n",
        "    W_deriv = -(1/N) * (np.dot(X.T, (np.array(y_train).reshape(-1,1) - np.dot(X, W))))\n",
        "    W = W - learning_rate * W_deriv.reshape(-1,1)\n",
        "    yPred = np.dot(X, W)\n",
        "    train_error = rmse(yPred, y_train)\n",
        "    yPred_val = np.dot(X_val, W)\n",
        "    val_error = rmse(yPred_val, y_val)\n",
        "    RMSE.append(train_error)\n",
        "    RMSE_val.append(val_error)\n",
        "    if i % 50 == 0:\n",
        "      print ('Epochs : ', i, ' Training Error : ', train_error, ' Validation Error : ', val_error)\n",
        "  return W, RMSE, RMSE_val"
      ],
      "execution_count": 9,
      "outputs": []
    },
    {
      "cell_type": "code",
      "metadata": {
        "id": "6osDiW6CjHtY",
        "colab_type": "code",
        "colab": {
          "base_uri": "https://localhost:8080/",
          "height": 136
        },
        "outputId": "232b44a3-15d1-41d9-91d3-6c5e2f8b9e97"
      },
      "source": [
        "## Run the gradient descent for a fixed number of epochs \n",
        "learning_rate = 0.01\n",
        "epoch = 350\n",
        "W_GD, RMSE_GD, RMSE_val_GD = gradient_descent(X, X_val, y_train, y_val, learning_rate, epoch)"
      ],
      "execution_count": 10,
      "outputs": [
        {
          "output_type": "stream",
          "text": [
            "Epochs :  0  Training Error :  0.0009427276218025017  Validation Error :  0.0009422290835588615\n",
            "Epochs :  50  Training Error :  0.000574416873586751  Validation Error :  0.0005705065161432148\n",
            "Epochs :  100  Training Error :  0.0003768086397688992  Validation Error :  0.0003731598575239172\n",
            "Epochs :  150  Training Error :  0.00026884844117108065  Validation Error :  0.0002653857278270497\n",
            "Epochs :  200  Training Error :  0.000215149980395862  Validation Error :  0.00021198670460815885\n",
            "Epochs :  250  Training Error :  0.0001911168532733887  Validation Error :  0.00018832139904241527\n",
            "Epochs :  300  Training Error :  0.00018114673582626058  Validation Error :  0.0001786728973302779\n"
          ],
          "name": "stdout"
        }
      ]
    },
    {
      "cell_type": "code",
      "metadata": {
        "id": "ZQFxB-FYLRAv",
        "colab_type": "code",
        "colab": {
          "base_uri": "https://localhost:8080/",
          "height": 295
        },
        "outputId": "a8e5e98b-0e7d-42a5-c9cd-8b5f9d7eea12"
      },
      "source": [
        "plt.plot(RMSE_GD, label = 'Training Error')\n",
        "plt.plot(RMSE_val_GD, label = 'Validation Error')\n",
        "plt.legend()\n",
        "plt.xlabel('Iteration')\n",
        "plt.ylabel('Error')\n",
        "plt.title('Iteration vs Error for Gradient Descent')\n",
        "plt.show()"
      ],
      "execution_count": 11,
      "outputs": [
        {
          "output_type": "display_data",
          "data": {
            "image/png": "[encoded data removed]",
            "text/plain": [
              "<Figure size 432x288 with 1 Axes>"
            ]
          },
          "metadata": {
            "tags": [],
            "needs_background": "light"
          }
        }
      ]
    },
    {
      "cell_type": "markdown",
      "metadata": {
        "id": "FqZ-SxZay-0o",
        "colab_type": "text"
      },
      "source": [
        "**Verify that the results are closely approximate the direct solution.**\n",
        "\n",
        "For gradient descent, after 300 epochs the training error is approximate to the training error that get from direct solution, and after 250 epochs the validation error is approximate to the direct solution.\n",
        " \n",
        "****"
      ]
    },
    {
      "cell_type": "markdown",
      "metadata": {
        "colab_type": "text",
        "id": "K3xwmhsr3NHS"
      },
      "source": [
        "## Part 4 - Mini-batch and Stochastic Gradient Descent [3 marks]"
      ]
    },
    {
      "cell_type": "markdown",
      "metadata": {
        "id": "X6eT9MIB-DSa",
        "colab_type": "text"
      },
      "source": [
        "When B=1, we call that stochastic gradient descent.  When B=#train data points, it is full-batch (ie all data points are used, every cycle). Anywhere in between is mini-batch (we use some of the data).  \n",
        "\n",
        "1. Implement Mini-batch Gradient Descent. \n",
        "First try to implement it without looking at other resources, but if you need a hint take a look [here](https://towardsdatascience.com/gradient-descent-explanation-implementation-c74005ff7dd1) and [here](https://ml-cheatsheet.readthedocs.io/en/latest/gradient_descent.html).\n",
        "\n",
        "2. Sweep different values for the mini-batch size (including 1 -- Stochastic GD) with a fixed learning rate and report your findings on a plot (training error and validation error vs. iterations)."
      ]
    },
    {
      "cell_type": "code",
      "metadata": {
        "id": "jGQ4_OPkleDq",
        "colab_type": "code",
        "colab": {}
      },
      "source": [
        "def mini_bitch(X, X_val, Y, Y_val, learning_rate, epoch, mini_size):\n",
        "  split = int((1/mini_size) * X.shape[0])\n",
        "  N = mini_size\n",
        "  RMSE = []\n",
        "  RMSE_val = []\n",
        "  W = np.zeros([41]).reshape(-1,1)\n",
        "  for i in range (epoch):\n",
        "    W_deriv = np.zeros([41])\n",
        "    for j in range(split):\n",
        "      X_mini = X[j*mini_size:(j+1)*mini_size,:] \n",
        "      Y_mini = np.array(Y[j*mini_size:(j+1)*mini_size]).reshape(-1,1)\n",
        "      W_deriv = -(1/N) * (np.dot(X_mini.T, (Y_mini - np.dot(X_mini, W))))\n",
        "      W = W - learning_rate * W_deriv.reshape(-1,1)\n",
        "      yPred = np.dot(X, W).reshape(-1,1)\n",
        "      train_error = rmse(yPred, Y)\n",
        "      yvalPred = np.dot(X_val, W).reshape(-1,1)\n",
        "      val_error = rmse(yvalPred, Y_val)\n",
        "      RMSE.append(train_error)\n",
        "      RMSE_val.append(val_error)\n",
        "  return W, RMSE, RMSE_val"
      ],
      "execution_count": 12,
      "outputs": []
    },
    {
      "cell_type": "code",
      "metadata": {
        "id": "E1mYg9b1SGa7",
        "colab_type": "code",
        "colab": {
          "base_uri": "https://localhost:8080/",
          "height": 51
        },
        "outputId": "ab03ebf3-03e9-4dc5-f154-0ca92740293c"
      },
      "source": [
        "W_b1, RMSE_b1, RMSE_val_b1 = mini_bitch(X, X_val, y_train, y_val, 0.0001, 10, 1)  # Batch size = 1\n",
        "j1 = [i for i in RMSE_b1 if i >= 0.00018]\n",
        "print('After ', len(j1), 'iterations, the training error for batch size = 1 is reached to 0.00018')\n",
        "p1 = [i for i in RMSE_val_b1 if i >= 0.00018]\n",
        "print('After ', len(p1), 'iterations, the validation error for batch size = 1 is reached to 0.00018')"
      ],
      "execution_count": null,
      "outputs": [
        {
          "output_type": "stream",
          "text": [
            "After  31485 iterations, the training error for batch size = 1 is reached to 0.00018\n",
            "After  29103 iterations, the validation error for batch size = 1 is reached to 0.00018\n"
          ],
          "name": "stdout"
        }
      ]
    },
    {
      "cell_type": "code",
      "metadata": {
        "id": "I2GrgBkpro5Y",
        "colab_type": "code",
        "colab": {
          "base_uri": "https://localhost:8080/",
          "height": 51
        },
        "outputId": "0e870586-dbc0-467c-9b3b-3928b7e39c34"
      },
      "source": [
        "W_b2, RMSE_b2, RMSE_val_b2 = mini_bitch(X, X_val, y_train, y_val, 0.0001, 100, 10) # Batch size = 10\n",
        "j2 = [i for i in RMSE_b2 if i >= 0.00018]\n",
        "print('After ', len(j2), 'iterations, the training error for batch size = 10 is reached to 0.00018')\n",
        "p2 = [i for i in RMSE_val_b2 if i >= 0.00018]\n",
        "print('After ', len(p2), 'iterations, the validation error for batch size = 10 is reached to 0.00018')"
      ],
      "execution_count": null,
      "outputs": [
        {
          "output_type": "stream",
          "text": [
            "After  31285 iterations, the training error for batch size = 10 is reached to 0.00018\n",
            "After  29221 iterations, the validation error for batch size = 10 is reached to 0.00018\n"
          ],
          "name": "stdout"
        }
      ]
    },
    {
      "cell_type": "code",
      "metadata": {
        "id": "oAiE0-u2otRy",
        "colab_type": "code",
        "colab": {
          "base_uri": "https://localhost:8080/",
          "height": 51
        },
        "outputId": "5f15b25f-c593-499c-a2d4-654a3f885706"
      },
      "source": [
        "W_b3, RMSE_b3, RMSE_val_b3 = mini_bitch(X, X_val, y_train, y_val, 0.0001, 1000, 100) # Batch size = 100\n",
        "j3 = [i for i in RMSE_b3 if i >= 0.00018]\n",
        "print('After ', len(j3), 'iterations, the training error for batch size = 100 is reached to 0.00018')\n",
        "p3 = [i for i in RMSE_val_b3 if i >= 0.00018]\n",
        "print('After ', len(p3), 'iterations, the validation error for batch size = 100 is reached to 0.00018')"
      ],
      "execution_count": null,
      "outputs": [
        {
          "output_type": "stream",
          "text": [
            "After  31274 iterations, the training error for batch size = 100 is reached to 0.00018\n",
            "After  29208 iterations, the validation error for batch size = 100 is reached to 0.00018\n"
          ],
          "name": "stdout"
        }
      ]
    },
    {
      "cell_type": "code",
      "metadata": {
        "id": "UTPX9Ls3SMDG",
        "colab_type": "code",
        "colab": {
          "base_uri": "https://localhost:8080/",
          "height": 51
        },
        "outputId": "e0cfd4b2-24ba-417c-da98-a53f51bbea72"
      },
      "source": [
        "W_b4, RMSE_b4, RMSE_val_b4 = mini_bitch(X, X_val, y_train, y_val, 0.0001, 10000, 1000)  # Batch size = 1000\n",
        "j4 = [i for i in RMSE_b4 if i >= 0.00018]\n",
        "print('After ', len(j4), 'iterations, the training error for batch size = 1000 is reached to 0.00018')\n",
        "p4 = [i for i in RMSE_val_b4 if i >= 0.00018]\n",
        "print('After ', len(p4), 'iterations, the validation error for batch size = 1000 is reached to 0.00018')"
      ],
      "execution_count": null,
      "outputs": [
        {
          "output_type": "stream",
          "text": [
            "After  31273 iterations, the training error for batch size = 1000 is reached to 0.00018\n",
            "After  29206 iterations, the validation error for batch size = 1000 is reached to 0.00018\n"
          ],
          "name": "stdout"
        }
      ]
    },
    {
      "cell_type": "code",
      "metadata": {
        "id": "iGEtrIOs3L3N",
        "colab_type": "code",
        "colab": {
          "base_uri": "https://localhost:8080/",
          "height": 295
        },
        "outputId": "95403352-fec0-4355-e9c5-cc58792e35b4"
      },
      "source": [
        "## Plot Iteration vs Traing error for different batch size\n",
        "plt.plot(RMSE_b1,  label = 'Training Error for Batch size 1')\n",
        "plt.plot(RMSE_b2, label = 'Training Error for Batch size 10')\n",
        "plt.plot(RMSE_b3, label = 'Training Error for Batch size 100')\n",
        "plt.plot(RMSE_b4, label = 'Training Error for Batch size 1000')\n",
        "plt.xlabel('Iteration')\n",
        "plt.ylabel('Training Error')\n",
        "plt.legend()\n",
        "plt.title('Iteration vs. Training error')\n",
        "plt.show()"
      ],
      "execution_count": null,
      "outputs": [
        {
          "output_type": "display_data",
          "data": {
            "image/png": "[encoded data removed]",
            "text/plain": [
              "<Figure size 432x288 with 1 Axes>"
            ]
          },
          "metadata": {
            "tags": [],
            "needs_background": "light"
          }
        }
      ]
    },
    {
      "cell_type": "code",
      "metadata": {
        "id": "UN8YtlRA2Xub",
        "colab_type": "code",
        "colab": {
          "base_uri": "https://localhost:8080/",
          "height": 295
        },
        "outputId": "3a7843c0-11f2-47e6-9d50-cbdf1a74febf"
      },
      "source": [
        "## Plot Iteration vs Validation error for different batch size\n",
        "plt.plot(RMSE_val_b1, label = 'Validation Error for Batch size 1')\n",
        "plt.plot(RMSE_val_b2, label = 'Validation Error for Batch size 100')\n",
        "plt.plot(RMSE_val_b3, label = 'Validation Error for Batch size 1000')\n",
        "plt.plot(RMSE_val_b4, label = 'Training Error for Batch size 1000')\n",
        "plt.xlabel('Iteration')\n",
        "plt.ylabel('Validation  Error')\n",
        "plt.legend()\n",
        "plt.title('Iteration vs. Training error')\n",
        "plt.show()"
      ],
      "execution_count": null,
      "outputs": [
        {
          "output_type": "display_data",
          "data": {
            "image/png": "[encoded data removed]",
            "text/plain": [
              "<Figure size 432x288 with 1 Axes>"
            ]
          },
          "metadata": {
            "tags": [],
            "needs_background": "light"
          }
        }
      ]
    },
    {
      "cell_type": "markdown",
      "metadata": {
        "id": "A59wDnF32yqb",
        "colab_type": "text"
      },
      "source": [
        "**Note:** \n",
        "\n",
        "Above plots cannot show clearly which batch size has the fastest convergence, so I count how many iterations will decrease the training error to 0.00018. The result shows when batch size = 1000, after 31273 iterations the training error reaches to 0.00018, it is faster than the batch size = 1 and 100. Using the large batch size will lead the RMSE fast converge.\n",
        "**** "
      ]
    },
    {
      "cell_type": "markdown",
      "metadata": {
        "id": "m0XR0IpjlJwN",
        "colab_type": "text"
      },
      "source": [
        "## Part 5 - Learning Rate [2 marks]\n",
        "Select the best batch size based on fastest convergence (number of times you update the weights) and sweep the learning rate while applying Mini-batch GD. Report your findings on a plot.\n"
      ]
    },
    {
      "cell_type": "code",
      "metadata": {
        "id": "ABlVgNHI5Sic",
        "colab_type": "code",
        "colab": {}
      },
      "source": [
        "# Learning rate = 0.0001\n",
        "W_r1, RMSE_r1, RMSE_val_r1 = mini_bitch(X, X_val, y_train, y_val, 0.0001, 1000, 1000)  "
      ],
      "execution_count": 13,
      "outputs": []
    },
    {
      "cell_type": "code",
      "metadata": {
        "id": "vj3HefcHSmZp",
        "colab_type": "code",
        "colab": {}
      },
      "source": [
        "# Learning rate = 0.001\n",
        "W_r2, RMSE_r2, RMSE_val_r2 = mini_bitch(X, X_val, y_train, y_val, 0.001, 1000, 1000)  "
      ],
      "execution_count": null,
      "outputs": []
    },
    {
      "cell_type": "code",
      "metadata": {
        "id": "kHK4Hzv1Sm5G",
        "colab_type": "code",
        "colab": {}
      },
      "source": [
        "# Learning rate = 0.01\n",
        "W_r3, RMSE_r3, RMSE_val_r3 = mini_bitch(X, X_val, y_train, y_val, 0.01, 1000, 1000)  "
      ],
      "execution_count": null,
      "outputs": []
    },
    {
      "cell_type": "code",
      "metadata": {
        "id": "SArXyv8nSoAH",
        "colab_type": "code",
        "colab": {}
      },
      "source": [
        "# Learning rate = 0.1\n",
        "W_r4, RMSE_r4, RMSE_val_r4 = mini_bitch(X, X_val, y_train, y_val, 0.1, 1000, 1000)  "
      ],
      "execution_count": null,
      "outputs": []
    },
    {
      "cell_type": "code",
      "metadata": {
        "id": "zacmZHpU4dfC",
        "colab_type": "code",
        "colab": {
          "base_uri": "https://localhost:8080/",
          "height": 295
        },
        "outputId": "bbfb2094-b368-47a6-c1c6-541f32fefe7f"
      },
      "source": [
        "## Plot Iteration vs Training error for different learning rate\n",
        "plt.plot(RMSE_r1, label = 'Learning rate = 0.0001')\n",
        "plt.plot(RMSE_r2, label = 'Learning rate = 0.001')\n",
        "plt.plot(RMSE_r3, label = 'Learning rate = 0.01')\n",
        "plt.plot(RMSE_r4, label = 'Learning rate = 0.1')\n",
        "plt.xlabel('Iteration')\n",
        "plt.ylabel('Training Error')\n",
        "plt.legend()\n",
        "plt.title('Iteration vs. Training error for Different Learning Rate')\n",
        "plt.show()"
      ],
      "execution_count": null,
      "outputs": [
        {
          "output_type": "display_data",
          "data": {
            "image/png": "[encoded data removed]",
            "text/plain": [
              "<Figure size 432x288 with 1 Axes>"
            ]
          },
          "metadata": {
            "tags": [],
            "needs_background": "light"
          }
        }
      ]
    },
    {
      "cell_type": "code",
      "metadata": {
        "id": "FmsPYgsG4zLh",
        "colab_type": "code",
        "colab": {
          "base_uri": "https://localhost:8080/",
          "height": 295
        },
        "outputId": "4da56d47-b432-43bb-a887-3bac79a7619c"
      },
      "source": [
        "## Plot Iteration vs Validation error for different learning rate\n",
        "plt.plot(RMSE_val_r1, label = 'Learning rate = 0.0001')\n",
        "plt.plot(RMSE_val_r2, label = 'Learning rate = 0.001')\n",
        "plt.plot(RMSE_val_r3, label = 'Learning rate = 0.01')\n",
        "plt.plot(RMSE_val_r4, label = 'Learning rate = 0.1')\n",
        "plt.xlabel('Iteration')\n",
        "plt.ylabel('Validation Error')\n",
        "plt.legend()\n",
        "plt.title('Iteration vs. Validation error for Different Learning Rate')\n",
        "plt.show()"
      ],
      "execution_count": null,
      "outputs": [
        {
          "output_type": "display_data",
          "data": {
            "image/png": "[encoded data removed]",
            "text/plain": [
              "<Figure size 432x288 with 1 Axes>"
            ]
          },
          "metadata": {
            "tags": [],
            "needs_background": "light"
          }
        }
      ]
    },
    {
      "cell_type": "markdown",
      "metadata": {
        "id": "uqRCgZD9GnYe",
        "colab_type": "text"
      },
      "source": [
        "**Note:**\n",
        "\n",
        "According to the above plots, when learning rate = 0.1, it converges fastest compared to other value of learning rate. Larger learning rate results in faster converge.\n",
        "****\n",
        "\n",
        "\n"
      ]
    },
    {
      "cell_type": "markdown",
      "metadata": {
        "id": "zJllnLWSmmnv",
        "colab_type": "text"
      },
      "source": [
        "## Part 6 - Regularizers [4 marks]\n",
        "\n",
        "\n",
        "\n",
        "1.   Formula (use a text cell --markdown-- and write in latex): \n",
        "  *   Derive the Direct solution formula when a L1 regularizer ($\\lambda_1$) is employed.\n",
        "  *   Derive the Direct solution formula when a L2 regularizer ($\\lambda_2$) is employed.\n",
        "  *   Derive the Gradient Descent weight update formula when the L1 regularizer is employed.\n",
        "  *   Derive the Gradient Descent weight update formula when the L2 regularizer is employed.\n",
        "\n",
        "\n",
        "\n",
        "2.   Evaluation:\n",
        "\n",
        "  *  Apply L1 and L2 regularizers (separately) to the direct solution and plot train and validation error as a function of the $\\lambda$. Find the best regularizer ($\\lambda$) values to use in the next steps.\n",
        "\n",
        "    *   Plot mini-batch GD train error and validation error when $\\lambda_1$ regularizer is employed. (X-axis: iterations)\n",
        "\n",
        "    *   Plot mini-batch GD train error and validation error when $\\lambda_2$ regularizer is employed. (X-axis: iterations)\n",
        "\n",
        "\n",
        "\n",
        "* Summarize your findings and explain whether L1 or L2 regularizers are helping the GD convergence. Is it always safe to use a L1 regularizer? How about L2?\n",
        "\n"
      ]
    },
    {
      "cell_type": "markdown",
      "metadata": {
        "id": "cPYiG1i9tyL8",
        "colab_type": "text"
      },
      "source": [
        "****\n",
        "**Derive the Direct solution formula when a L1 regularizer ($\\lambda_1$) is employed**.\n",
        "\n",
        "With 𝐿1 Regularization. Cost:\n",
        "\n",
        "$J(w) = \\frac{1}{2N}[\\sum_{i=1}^N(h_w (x^{(i)}) - t^{(i)})^2 + \\lambda_1\\sum_{j=1}^n|w_j|]$ \n",
        "\n",
        "$J(w) = \\frac{1}{2N}[||Xw-t||^2 + \\lambda_1|w_j|]$ \n",
        "\n",
        "To derive the direct solution for L1 regularizer, $\\frac{\\partial J(w)}{\\partial w} = 0$, but we cannot obtain the close form solution for global minimum, since the above is non-differentiable when $w_j = 0$. We cannot derive the direct solution for L1 regularizer."
      ]
    },
    {
      "cell_type": "markdown",
      "metadata": {
        "id": "X71UeSiytk5M",
        "colab_type": "text"
      },
      "source": [
        "**Derive the Direct solution formula when a L2 regularizer ($\\lambda_2$) is employed.**\n",
        "\n",
        "With 𝐿2 Regularization. Cost:\n",
        "\n",
        "$J(w) = \\frac{1}{2N}[\\sum_{i=1}^N(h_w (x^{(i)}) - t^{(i)})^2 + \\lambda_2\\sum_{j=1}^nw^2_j]$ \n",
        "\n",
        "$J(w) = \\frac{1}{2N}[||Xw-t||^2 + \\lambda_2||w_j||^2]$ \n",
        "\n",
        "$\\frac{\\partial J(w)}{\\partial w} = 0$\n",
        "\n",
        "$2X^TXw-2X^Tt+2\\lambda_2w = 0$\n",
        "\n",
        "$w = (X^TX + \\lambda I)^{-1}X^Tt$"
      ]
    },
    {
      "cell_type": "markdown",
      "metadata": {
        "id": "duvBVgTaNam7",
        "colab_type": "text"
      },
      "source": [
        "**Derive the Gradient Descent weight update formula when the L1 regularizer is employed.**\n",
        "\n",
        "$\\begin{equation}\n",
        "\\frac{d|w|}{dw} =\\left\\{\n",
        "\\begin{aligned}\n",
        "1\\ \\ w_i>0\\\\\n",
        "-1\\ \\ w_i<0\n",
        "\\end{aligned}\n",
        "\\right.\n",
        "\\end{equation}$\n",
        "\n",
        "$w = w - \\alpha\\frac{\\partial J(w)}{\\partial w}$\n",
        "\n",
        "$\\begin{equation}\n",
        "\\frac{\\partial J(w)}{\\partial w} =\\left\\{\n",
        "\\begin{aligned}\n",
        "\\frac{1}{2N}\\ [2X^TXw-2X^Tt+\\lambda_1]\\ \\ w_i>0\\\\\n",
        "\\frac{1}{2N}\\ [2X^TXw-2X^Tt-\\lambda_1]\\ \\ w_i<0\n",
        "\\end{aligned}\n",
        "\\right.\n",
        "\\end{equation}$\n",
        "\n",
        "$w = w - \\frac{\\alpha}{2N}\\ \\ [2X^TXw-2X^Tt+\\lambda_1sign(w_j)]$"
      ]
    },
    {
      "cell_type": "markdown",
      "metadata": {
        "id": "OaNIcwy-UMFi",
        "colab_type": "text"
      },
      "source": [
        "**Derive the Gradient Descent weight update formula when the L2 regularizer is employed.**\n",
        "\n",
        "$w = w - \\alpha\\frac{\\partial J(w)}{\\partial w}$\n",
        "\n",
        "$w = w - \\frac{\\alpha}{2N}\\ [2X^TXw-2X^Tt+2\\lambda_2w]$\n",
        "****\n"
      ]
    },
    {
      "cell_type": "code",
      "metadata": {
        "id": "Y-k1uNjV-gVg",
        "colab_type": "code",
        "colab": {
          "base_uri": "https://localhost:8080/",
          "height": 295
        },
        "outputId": "ce49477e-b8ff-4d5c-c5bc-f1f7647f30fb"
      },
      "source": [
        "## Apply L2 regularizers to the direct solution and plot train and validation error as a function of the  𝜆 \n",
        "train_error_list = []\n",
        "val_error_list = []\n",
        "for λ in range(0, 10, 1):\n",
        "  weight_L2 = np.dot(np.linalg.inv(np.dot(X.T, X) + (λ*0.1)*np.identity(41)), np.dot(X.T, y_train))\n",
        "  yPred_L2 = np.dot(X, weight_L2)\n",
        "  train_error = rmse(yPred_L2, y_train)\n",
        "  train_error_list.append(train_error)\n",
        "  yPred_L2_val = np.dot(X_val, weight_L2)\n",
        "  val_error = rmse(yPred_L2_val, y_val)\n",
        "  val_error_list.append(val_error)\n",
        "plt.plot(np.linspace(0, 1, 10), train_error_list, label = 'Training error')\n",
        "plt.plot(np.linspace(0, 1, 10), val_error_list, label = 'Validation error')\n",
        "plt.legend()\n",
        "plt.xlabel('λ value')\n",
        "plt.ylabel('Error')\n",
        "plt.title('λ value vs Error for L2 regularizer')\n",
        "plt.show()"
      ],
      "execution_count": 14,
      "outputs": [
        {
          "output_type": "display_data",
          "data": {
            "image/png": "[encoded data removed]",
            "text/plain": [
              "<Figure size 432x288 with 1 Axes>"
            ]
          },
          "metadata": {
            "tags": [],
            "needs_background": "light"
          }
        }
      ]
    },
    {
      "cell_type": "code",
      "metadata": {
        "id": "_aKvgYCfS_jd",
        "colab_type": "code",
        "colab": {
          "base_uri": "https://localhost:8080/",
          "height": 34
        },
        "outputId": "a86b1137-faae-40f7-e9d6-0eb11def4e06"
      },
      "source": [
        "## Find the best regularizer (𝜆) values\n",
        "λ_value = np.linspace(0, 1, 11)\n",
        "min_index = train_error_list.index(min(train_error_list))\n",
        "min_λ = λ_value[min_index]\n",
        "print('The minimun λ value for L2 regularizer is ', min_λ)"
      ],
      "execution_count": 15,
      "outputs": [
        {
          "output_type": "stream",
          "text": [
            "The minimun λ value for L2 regularizer is  0.1\n"
          ],
          "name": "stdout"
        }
      ]
    },
    {
      "cell_type": "code",
      "metadata": {
        "id": "9PSqyu5iQJyj",
        "colab_type": "code",
        "colab": {}
      },
      "source": [
        "## Plot mini-batch GD train error and validation error when L1 regularizer\n",
        "def L1_mini_GD(X, X_val, Y, Y_val, learning_rate, epoch, mini_size, λ):\n",
        "  split = int((1/mini_size) * X.shape[0])\n",
        "  N = mini_size\n",
        "  RMSE = []\n",
        "  RMSE_val = []\n",
        "  W = np.zeros([41]).reshape(-1,1)\n",
        "  for i in range (epoch):\n",
        "    W_deriv = np.zeros([41])\n",
        "    for j in range(split):\n",
        "      X_mini = X[j*mini_size:(j+1)*mini_size,:] \n",
        "      Y_mini = np.array(Y[j*mini_size:(j+1)*mini_size]).reshape(-1,1)\n",
        "      W_deriv = (1/N) * (np.dot(np.dot(X_mini.T, X_mini), W) - np.dot(X_mini.T, Y_mini) + 𝜆 * np.sign(W))\n",
        "      W = W - learning_rate * W_deriv.reshape(-1,1)\n",
        "      yPred = np.dot(X, W).reshape(-1,1)\n",
        "      train_error = rmse(yPred, Y)\n",
        "      yvalPred = np.dot(X_val, W).reshape(-1,1)\n",
        "      val_error = rmse(yvalPred, Y_val)\n",
        "      RMSE.append(train_error)\n",
        "      RMSE_val.append(val_error)\n",
        "  return W, RMSE, RMSE_val"
      ],
      "execution_count": 16,
      "outputs": []
    },
    {
      "cell_type": "code",
      "metadata": {
        "id": "k76PlnYnL_sB",
        "colab_type": "code",
        "colab": {
          "base_uri": "https://localhost:8080/",
          "height": 51
        },
        "outputId": "0dac747a-7641-4120-a427-ce9e0be64ccd"
      },
      "source": [
        "## Find the minimun value of the training error and validation error \n",
        "## Batch size = 1000, epoch = 100, L1 regularizer = 0.1\n",
        "W_L1, RMSE_L1, RMSE_val_L1 =  L1_mini_GD(X, X_val, y_train, y_val, 0.01, 100, 1000, 0.1)\n",
        "print('The minimun of the training error for mini batch GD L1 regularizer is', min(RMSE_L1))\n",
        "print('The minimun of the validation error for mini batch GD L1 regularizer is', min(RMSE_val_L1))"
      ],
      "execution_count": 17,
      "outputs": [
        {
          "output_type": "stream",
          "text": [
            "The minimun of the training error for mini batch GD L1 regularizer is 0.00027197544347545193\n",
            "The minimun of the validation error for mini batch GD L1 regularizer is 0.00026677994014030206\n"
          ],
          "name": "stdout"
        }
      ]
    },
    {
      "cell_type": "code",
      "metadata": {
        "id": "0cEwbqu_cqU1",
        "colab_type": "code",
        "colab": {}
      },
      "source": [
        "## Plot mini-batch GD train error and validation error when L1 regularizer using Lasso\n",
        "def L1_mini_GD_Lasso(X, X_val, Y, Y_val, learning_rate, epoch, mini_size, λ):\n",
        "  split = int((1/mini_size) * X.shape[0])\n",
        "  N = mini_size\n",
        "  RMSE = []\n",
        "  RMSE_val = []\n",
        "  W = np.zeros([41]).reshape(-1,1)\n",
        "  for i in range (epoch):\n",
        "    W_deriv = np.zeros([41])\n",
        "    for j in range(split):\n",
        "      X_mini = X[j*mini_size:(j+1)*mini_size,:] \n",
        "      Y_mini = np.array(Y[j*mini_size:(j+1)*mini_size]).reshape(-1,1)\n",
        "      clf = linear_model.Lasso(alpha = λ)\n",
        "      clf.fit(X, Y)\n",
        "      W_deriv = (1/N) * (np.dot(np.dot(X_mini.T, X_mini), W) - np.dot(X_mini.T, Y_mini) + 𝜆 * clf.coef_.reshape(-1,1))\n",
        "      W = W - learning_rate * W_deriv.reshape(-1,1)\n",
        "      yPred = np.dot(X, W).reshape(-1,1)\n",
        "      train_error = rmse(yPred, Y)\n",
        "      yvalPred = np.dot(X_val, W).reshape(-1,1)\n",
        "      val_error = rmse(yvalPred, Y_val)\n",
        "      RMSE.append(train_error)\n",
        "      RMSE_val.append(val_error)\n",
        "  return W, RMSE, RMSE_val"
      ],
      "execution_count": 39,
      "outputs": []
    },
    {
      "cell_type": "code",
      "metadata": {
        "id": "KGcvOsYHentw",
        "colab_type": "code",
        "colab": {}
      },
      "source": [
        "W_L1_Lasso, RMSE_L1_Lasso, RMSE_val_L1_Lasso =  L1_mini_GD_Lasso(X, X_val, y_train, y_val, 0.01, 100, 1000, 0.1)"
      ],
      "execution_count": 40,
      "outputs": []
    },
    {
      "cell_type": "code",
      "metadata": {
        "id": "8nEMKoecUtCl",
        "colab_type": "code",
        "colab": {}
      },
      "source": [
        "## Plot mini-batch GD train error and validation error when L2  regularizer \n",
        "def L2_mini_GD(X, X_val, Y, Y_val, learning_rate, epoch, mini_size, λ):\n",
        "  split = int((1/mini_size) * X.shape[0])\n",
        "  N = mini_size\n",
        "  RMSE = []\n",
        "  RMSE_val = []\n",
        "  W = np.zeros([41]).reshape(-1,1)\n",
        "  for i in range (epoch):\n",
        "    W_deriv = np.zeros([41])\n",
        "    for j in range(split):\n",
        "      X_mini = X[j*mini_size:(j+1)*mini_size,:] \n",
        "      Y_mini = np.array(Y[j*mini_size:(j+1)*mini_size]).reshape(-1,1)\n",
        "      W_deriv = (1/N) * (np.dot(np.dot(X_mini.T, X_mini), W) - np.dot(X_mini.T, Y_mini) + 𝜆 * W)\n",
        "      W = W - learning_rate * W_deriv.reshape(-1,1)\n",
        "      yPred = np.dot(X, W).reshape(-1,1)\n",
        "      train_error = rmse(yPred, Y)\n",
        "      yvalPred = np.dot(X_val, W).reshape(-1,1)\n",
        "      val_error = rmse(yvalPred, Y_val)\n",
        "      RMSE.append(train_error)\n",
        "      RMSE_val.append(val_error)\n",
        "  return W, RMSE, RMSE_val"
      ],
      "execution_count": 41,
      "outputs": []
    },
    {
      "cell_type": "code",
      "metadata": {
        "id": "H0iTNLHeMjUb",
        "colab_type": "code",
        "colab": {}
      },
      "source": [
        "W_L2, RMSE_L2, RMSE_val_L2 =  L2_mini_GD(X, X_val, y_train, y_val, 0.01, 100, 1000, 0.1)"
      ],
      "execution_count": 42,
      "outputs": []
    },
    {
      "cell_type": "code",
      "metadata": {
        "id": "gVOUkvEsO17p",
        "colab_type": "code",
        "colab": {
          "base_uri": "https://localhost:8080/",
          "height": 295
        },
        "outputId": "b32fa4a5-2952-43f0-a902-94b108cef223"
      },
      "source": [
        "plt.plot(RMSE_L2[0:10], label = 'Training Error for L2 GD')\n",
        "plt.plot(RMSE_val_L2[0:10], label = 'Validation Error for L2 GD')\n",
        "plt.plot(RMSE_L1[0:10], label = 'Training Error for L1 GD')\n",
        "plt.plot(RMSE_val_L1[0:10], label = 'Validation Error for L1 GD')\n",
        "plt.plot(RMSE_L1_Lasso[0:10], label = 'Training Error for L1 GD using Lasso')\n",
        "plt.plot(RMSE_val_L1_Lasso[0:10], label = 'Validation Error for L1 GD using Lasso')\n",
        "plt.xlabel('Iteration')\n",
        "plt.ylabel('Error')\n",
        "plt.legend()\n",
        "plt.title('Mini Batch Gradient Descent Error Comparison Between L1 and L2 Regularizer')\n",
        "plt.show()"
      ],
      "execution_count": 49,
      "outputs": [
        {
          "output_type": "display_data",
          "data": {
            "image/png": "[encoded data removed]",
            "text/plain": [
              "<Figure size 432x288 with 1 Axes>"
            ]
          },
          "metadata": {
            "tags": [],
            "needs_background": "light"
          }
        }
      ]
    },
    {
      "cell_type": "markdown",
      "metadata": {
        "id": "BGfZOet9QUmf",
        "colab_type": "text"
      },
      "source": [
        "**Summarize your findings and explain whether L1 or L2 regularizers are helping the GD convergence. Is it always safe to use a L1 regularizer? How about L2?**\n",
        "\n",
        "L1 regularizer results in higher error than L2 regularizer at the same iteration and converge slower than L2. But if applying Lasso to L1 regularizer, the resulting training errror and validaiton error will be same as L2 regularizer, the plotted curves are covered with each other.\n",
        "\n",
        "The difference between L1 and L2 is L1 is the sum of weights and L2 is just the sum of the square of weights. L1 cannot be used in gradient based approaches since it is not-differentiable unlike L2. So that L1 regularizer is not always safe, it cannot has a direct solution. And in the gradient descent, when using Lasso, weights can become zero and eliminated. For L2 regularizer, it is more efficient since it has a direct solution and all weights are shrunk by the same factor.\n",
        "****"
      ]
    },
    {
      "cell_type": "markdown",
      "metadata": {
        "colab_type": "text",
        "id": "_APuh43i3NHU"
      },
      "source": [
        "## Part 7 - Introducing Momentum [4 marks]"
      ]
    },
    {
      "cell_type": "markdown",
      "metadata": {
        "colab_type": "text",
        "id": "MabNnVcW3NHU"
      },
      "source": [
        "Momentum is a popular technique that helps the gradient descent algorithm to converge faster. Simply, it behaves like a moving average of gradients. First, take a look at [here](https://towardsdatascience.com/stochastic-gradient-descent-with-momentum-a84097641a5d) to get familiar with the concept.\n",
        "\n",
        "To summarize, If the weight update formula in the time-step $t$ is $w_t = w_{t-1} - \\alpha~g_t$, the $g_t$ using momentum could be computed as $g_t = \\beta~g_{t-1} + (1-\\beta) \\frac{{\\partial J}}{\\partial w}$. $\\beta$ is the momentum coefficient, between [0, 1]. Weight updates ($g_t$) with momentum are not only computed based on the derivative of the loss function but also is a function of previous weight updates.\n",
        "\n",
        "If you put $\\beta=0$ in the $g_t$ equation, it would be the original gradient descent method. \n",
        "\n",
        "Train a linear model with a regularizer and various values of momentums. Plot your training and validation error for each iteration. Comment on the effect of momentum."
      ]
    },
    {
      "cell_type": "code",
      "metadata": {
        "id": "J6y-mK8r5TD3",
        "colab_type": "code",
        "colab": {}
      },
      "source": [
        "def momentum (X, X_val, Y, Y_val, learning_rate, epoch, λ, beta):\n",
        "  N = X.shape[0]\n",
        "  W = np.zeros([41]).reshape(-1,1)\n",
        "  Y = np.array(Y).reshape(-1,1)\n",
        "  W_deriv = np.zeros([41]).reshape(-1,1)\n",
        "  g = np.zeros([41]).reshape(-1,1)\n",
        "  RMSE = []\n",
        "  RMSE_val = []\n",
        "  for i in range (epoch):\n",
        "    W_deriv = (1/N) * (np.dot(np.dot(X.T, X), W) - np.dot(X.T, Y) + 𝜆 * W)\n",
        "    g = beta * g + (1-beta) * W_deriv.reshape(-1,1)\n",
        "    W = W - learning_rate * g\n",
        "    yPred = np.dot(X, W).reshape(-1,1)\n",
        "    train_error = rmse(yPred, Y)\n",
        "    yPred_val = np.dot(X_val, W)\n",
        "    val_error = rmse(yPred_val, Y_val)\n",
        "    RMSE.append(train_error)\n",
        "    RMSE_val.append(val_error)\n",
        "  return W, RMSE, RMSE_val"
      ],
      "execution_count": null,
      "outputs": []
    },
    {
      "cell_type": "code",
      "metadata": {
        "id": "VOUWKXhMRvIt",
        "colab_type": "code",
        "colab": {
          "base_uri": "https://localhost:8080/",
          "height": 51
        },
        "outputId": "e189e255-7727-4861-ed80-69bd5b974748"
      },
      "source": [
        "W_mom_0, RMSE_mom_0, RMSE_val_mom_0 = momentum(X, X_val, y_train, y_val, 0.01, 1000, 0.1, 0)\n",
        "j0 = [i for i in RMSE_mom_0 if i >= 0.00018]\n",
        "print('After ', len(j0), 'iterations, the training error for momuntum coefficient = 0 is reached to 0.00018')\n",
        "p0 = [i for i in RMSE_val_mom_0 if i >= 0.00018]\n",
        "print('After ', len(p0), 'iterations, the validation error for momuntum coefficient = 0 is reached to 0.00018')"
      ],
      "execution_count": null,
      "outputs": [
        {
          "output_type": "stream",
          "text": [
            "After  311 iterations, the training error for momuntum coefficient = 0 is reached to 0.00018\n",
            "After  290 iterations, the validation error for momuntum coefficient = 0 is reached to 0.00018\n"
          ],
          "name": "stdout"
        }
      ]
    },
    {
      "cell_type": "code",
      "metadata": {
        "id": "id-3PsGH3Op0",
        "colab_type": "code",
        "colab": {
          "base_uri": "https://localhost:8080/",
          "height": 51
        },
        "outputId": "c0b81b3f-4b13-4f69-a5d4-10441bcabb58"
      },
      "source": [
        "W_mom_1, RMSE_mom_1, RMSE_val_mom_1 = momentum(X, X_val, y_train, y_val, 0.01, 1000, 0.1, 0.25)\n",
        "j1 = [i for i in RMSE_mom_1 if i >= 0.00018]\n",
        "print('After ', len(j1), 'iterations, the training error for momuntum coefficient = 0.25 is reached to 0.00018')\n",
        "p1 = [i for i in RMSE_val_mom_1 if i >= 0.00018]\n",
        "print('After ', len(p1), 'iterations, the validation error for momuntum coefficient = 0.25 is reached to 0.00018')"
      ],
      "execution_count": null,
      "outputs": [
        {
          "output_type": "stream",
          "text": [
            "After  310 iterations, the training error for momuntum coefficient = 0.25 is reached to 0.00018\n",
            "After  290 iterations, the validation error for momuntum coefficient = 0.25 is reached to 0.00018\n"
          ],
          "name": "stdout"
        }
      ]
    },
    {
      "cell_type": "code",
      "metadata": {
        "id": "Fq-YsTOPR-eD",
        "colab_type": "code",
        "colab": {
          "base_uri": "https://localhost:8080/",
          "height": 51
        },
        "outputId": "23a66920-7ded-4cdb-8493-30eeb58e6a8a"
      },
      "source": [
        "W_mom_2, RMSE_mom_2, RMSE_val_mom_2 = momentum(X, X_val, y_train, y_val, 0.01, 1000, 0.1, 0.5)\n",
        "j2 = [i for i in RMSE_mom_2 if i >= 0.00018]\n",
        "print('After ', len(j2), 'iterations, the training error for momuntum coefficient = 0.5 is reached to 0.00018')\n",
        "p2 = [i for i in RMSE_val_mom_2 if i >= 0.00018]\n",
        "print('After ', len(p2), 'iterations, the validation error for momuntum coefficient = 0.5 is reached to 0.00018')"
      ],
      "execution_count": null,
      "outputs": [
        {
          "output_type": "stream",
          "text": [
            "After  309 iterations, the training error for momuntum coefficient = 0.5 is reached to 0.00018\n",
            "After  288 iterations, the validation error for momuntum coefficient = 0.5 is reached to 0.00018\n"
          ],
          "name": "stdout"
        }
      ]
    },
    {
      "cell_type": "code",
      "metadata": {
        "id": "uRXpmNnN3Pjd",
        "colab_type": "code",
        "colab": {
          "base_uri": "https://localhost:8080/",
          "height": 51
        },
        "outputId": "14e38cb0-8355-4443-e07a-fc2857a7ae8b"
      },
      "source": [
        "W_mom_3, RMSE_mom_3, RMSE_val_mom_3 = momentum(X, X_val, y_train, y_val, 0.01, 1000, 0.1, 0.9)\n",
        "j3 = [i for i in RMSE_mom_3 if i >= 0.00018]\n",
        "print('After ', len(j3), 'iterations, the training error for momuntum coefficient = 0.9 is reached to 0.00018')\n",
        "p3 = [i for i in RMSE_val_mom_3 if i >= 0.00018]\n",
        "print('After ', len(p3), 'iterations, the validation error for batch size = 0.9 is reached to 0.00018')"
      ],
      "execution_count": null,
      "outputs": [
        {
          "output_type": "stream",
          "text": [
            "After  292 iterations, the training error for momuntum coefficient = 0.9 is reached to 0.00018\n",
            "After  273 iterations, the validation error for batch size = 0.9 is reached to 0.00018\n"
          ],
          "name": "stdout"
        }
      ]
    },
    {
      "cell_type": "code",
      "metadata": {
        "id": "N4koeGwpSZ7T",
        "colab_type": "code",
        "colab": {
          "base_uri": "https://localhost:8080/",
          "height": 51
        },
        "outputId": "955c8273-6143-41d9-abc4-c56e23153801"
      },
      "source": [
        "W_mom_4, RMSE_mom_4, RMSE_val_mom_4 = momentum(X, X_val, y_train, y_val, 0.01, 1000, 0.1, 0.99)\n",
        "j4 = [i for i in RMSE_mom_4 if i >= 0.00018]\n",
        "print('After ', len(j4), 'iterations, the training error for momuntum coefficient = 0.99 is reached to 0.00018')\n",
        "p4 = [i for i in RMSE_val_mom_4 if i >= 0.00018]\n",
        "print('After ', len(p4), 'iterations, the validation error for momuntum coefficient = 0.99 is reached to 0.00018')"
      ],
      "execution_count": null,
      "outputs": [
        {
          "output_type": "stream",
          "text": [
            "After  534 iterations, the training error for momuntum coefficient = 0.99 is reached to 0.00018\n",
            "After  526 iterations, the validation error for momuntum coefficient = 0.99 is reached to 0.00018\n"
          ],
          "name": "stdout"
        }
      ]
    },
    {
      "cell_type": "code",
      "metadata": {
        "id": "fQOUq1zHT9-v",
        "colab_type": "code",
        "colab": {
          "base_uri": "https://localhost:8080/",
          "height": 295
        },
        "outputId": "335e7220-017f-4206-94f7-5ebbe05b9016"
      },
      "source": [
        "## Plot Iteration vs Training Error for different momentum value\n",
        "plt.plot(j0, label = 'beta = 0')\n",
        "plt.plot(j1, label = 'beta = 0.25')\n",
        "plt.plot(j2, label = 'beta = 0.5')\n",
        "plt.plot(j3, label = 'beta = 0.9')\n",
        "plt.plot(j4, label = 'beta = 0.99')\n",
        "plt.xlabel('Iteration')\n",
        "plt.ylabel('Training Error')\n",
        "plt.legend()\n",
        "plt.title('Iteration vs. Training error for Different Learning Rate')\n",
        "plt.show()"
      ],
      "execution_count": null,
      "outputs": [
        {
          "output_type": "display_data",
          "data": {
            "image/png": "[encoded data removed]",
            "text/plain": [
              "<Figure size 432x288 with 1 Axes>"
            ]
          },
          "metadata": {
            "tags": [],
            "needs_background": "light"
          }
        }
      ]
    },
    {
      "cell_type": "code",
      "metadata": {
        "id": "PUL7KfoVa5GG",
        "colab_type": "code",
        "colab": {
          "base_uri": "https://localhost:8080/",
          "height": 295
        },
        "outputId": "589b6f4c-ae11-47dd-bade-6bc98cb7e76d"
      },
      "source": [
        "## Plot Iteration vs Validation Error for different momentum value\n",
        "plt.plot(p0, label = 'beta = 0')\n",
        "plt.plot(p1, label = 'beta = 0.25')\n",
        "plt.plot(p2, label = 'beta = 0.5')\n",
        "plt.plot(p3, label = 'beta = 0.9')\n",
        "plt.plot(p4, label = 'beta = 0.99')\n",
        "plt.xlabel('Iteration')\n",
        "plt.ylabel('Validation Error')\n",
        "plt.legend()\n",
        "plt.title('Iteration vs. Validation error for Different Learning Rate')\n",
        "plt.show()"
      ],
      "execution_count": null,
      "outputs": [
        {
          "output_type": "display_data",
          "data": {
            "image/png": "[encoded data removed]",
            "text/plain": [
              "<Figure size 432x288 with 1 Axes>"
            ]
          },
          "metadata": {
            "tags": [],
            "needs_background": "light"
          }
        }
      ]
    },
    {
      "cell_type": "markdown",
      "metadata": {
        "id": "JtgC9gL65o8Y",
        "colab_type": "text"
      },
      "source": [
        "**Comment on the effect of momentum.**\n",
        "\n",
        "Larger momentum coefficient results in faster converge. From above graph when the momentum coefficient is 0.9, it used 292 iterations to decrease the training error to 0.00018, and when the momentum cofficient is 0, it used 311 iterations to decrease the training error ot 0.00018. When the momentun coefficient appoaches to 1, it causes instabilities during training. So that apply the monentum can help to fast the converge rate.\n",
        "****"
      ]
    },
    {
      "cell_type": "markdown",
      "metadata": {
        "colab_type": "text",
        "id": "0cS99Cxw3NHV"
      },
      "source": [
        "## Part 8 - Find a dataset online [3 marks]\n"
      ]
    },
    {
      "cell_type": "markdown",
      "metadata": {
        "id": "zIUuhPqA1WUe",
        "colab_type": "text"
      },
      "source": [
        "Find a dataset online and train a linear model with the techniques you learned to make a prediction. \n",
        "\n",
        "*   Introduce your dataset,\n",
        "*   How did you train your model,\n",
        "*   Show your results.\n",
        "\n",
        "Hint: you can find various datasets in here: https://www.kaggle.com/datasets.\n",
        "\n",
        "To use a dataset in Colab, you can upload it in your Google drive and access it in Colab ([help here](https://medium.com/analytics-vidhya/how-to-fetch-kaggle-datasets-into-google-colab-ea682569851a)), or you can download the dataset on your local machine and upload it directly to Colab using the following script.\n",
        "\n",
        "```\n",
        "from google.colab import files\n",
        "uploaded = files.upload()\n",
        "```\n",
        "\n",
        "When submitting your project on Quercus, Please make sure you are also uploading your dataset so we can fully run your notebook.\n",
        "\n",
        "\n",
        "\n",
        "\n"
      ]
    },
    {
      "cell_type": "markdown",
      "metadata": {
        "id": "VSwit-x0Sqxi",
        "colab_type": "text"
      },
      "source": [
        "****\n",
        "**Description:**\n",
        "\n",
        "The dataset that I choose is to ranking the world happyness for 2019. The raw data has 6 numerical features and the target that need to predict is the Score column.\n",
        "\n",
        "To training a model, first, based on the data matrix is invertible, I use the direct solution to get the optimal weight vector and calculate the corresponding training and validation error. Then using the gradient descent to approach to the optimal weight.\n",
        "\n",
        "As the result, after epoch approximately 550 times, the weight vector get from gradient descent is very close to the one that get from direct solution. The training error is 0.538 and validation error is 0.502, error curve begins to converge around 200 epochs."
      ]
    },
    {
      "cell_type": "code",
      "metadata": {
        "id": "pQlikNdORpfS",
        "colab_type": "code",
        "colab": {
          "base_uri": "https://localhost:8080/",
          "height": 453
        },
        "outputId": "1a518b77-e546-4c95-af60-4bdc2c332074"
      },
      "source": [
        "df_happy = pd.read_csv('world_happy_2019.csv' , skipinitialspace=True)\n",
        "df_happy"
      ],
      "execution_count": null,
      "outputs": [
        {
          "output_type": "execute_result",
          "data": {
            "text/html": [
              "<div>\n",
              "<style scoped>\n",
              "    .dataframe tbody tr th:only-of-type {\n",
              "        vertical-align: middle;\n",
              "    }\n",
              "\n",
              "    .dataframe tbody tr th {\n",
              "        vertical-align: top;\n",
              "    }\n",
              "\n",
              "    .dataframe thead th {\n",
              "        text-align: right;\n",
              "    }\n",
              "</style>\n",
              "<table border=\"1\" class=\"dataframe\">\n",
              "  <thead>\n",
              "    <tr style=\"text-align: right;\">\n",
              "      <th></th>\n",
              "      <th>Overall rank</th>\n",
              "      <th>Country or region</th>\n",
              "      <th>Score</th>\n",
              "      <th>GDP per capita</th>\n",
              "      <th>Social support</th>\n",
              "      <th>Healthy life expectancy</th>\n",
              "      <th>Freedom to make life choices</th>\n",
              "      <th>Generosity</th>\n",
              "      <th>Perceptions of corruption</th>\n",
              "    </tr>\n",
              "  </thead>\n",
              "  <tbody>\n",
              "    <tr>\n",
              "      <th>0</th>\n",
              "      <td>1</td>\n",
              "      <td>Finland</td>\n",
              "      <td>7.769</td>\n",
              "      <td>1.340</td>\n",
              "      <td>1.587</td>\n",
              "      <td>0.986</td>\n",
              "      <td>0.596</td>\n",
              "      <td>0.153</td>\n",
              "      <td>0.393</td>\n",
              "    </tr>\n",
              "    <tr>\n",
              "      <th>1</th>\n",
              "      <td>2</td>\n",
              "      <td>Denmark</td>\n",
              "      <td>7.600</td>\n",
              "      <td>1.383</td>\n",
              "      <td>1.573</td>\n",
              "      <td>0.996</td>\n",
              "      <td>0.592</td>\n",
              "      <td>0.252</td>\n",
              "      <td>0.410</td>\n",
              "    </tr>\n",
              "    <tr>\n",
              "      <th>2</th>\n",
              "      <td>3</td>\n",
              "      <td>Norway</td>\n",
              "      <td>7.554</td>\n",
              "      <td>1.488</td>\n",
              "      <td>1.582</td>\n",
              "      <td>1.028</td>\n",
              "      <td>0.603</td>\n",
              "      <td>0.271</td>\n",
              "      <td>0.341</td>\n",
              "    </tr>\n",
              "    <tr>\n",
              "      <th>3</th>\n",
              "      <td>4</td>\n",
              "      <td>Iceland</td>\n",
              "      <td>7.494</td>\n",
              "      <td>1.380</td>\n",
              "      <td>1.624</td>\n",
              "      <td>1.026</td>\n",
              "      <td>0.591</td>\n",
              "      <td>0.354</td>\n",
              "      <td>0.118</td>\n",
              "    </tr>\n",
              "    <tr>\n",
              "      <th>4</th>\n",
              "      <td>5</td>\n",
              "      <td>Netherlands</td>\n",
              "      <td>7.488</td>\n",
              "      <td>1.396</td>\n",
              "      <td>1.522</td>\n",
              "      <td>0.999</td>\n",
              "      <td>0.557</td>\n",
              "      <td>0.322</td>\n",
              "      <td>0.298</td>\n",
              "    </tr>\n",
              "    <tr>\n",
              "      <th>...</th>\n",
              "      <td>...</td>\n",
              "      <td>...</td>\n",
              "      <td>...</td>\n",
              "      <td>...</td>\n",
              "      <td>...</td>\n",
              "      <td>...</td>\n",
              "      <td>...</td>\n",
              "      <td>...</td>\n",
              "      <td>...</td>\n",
              "    </tr>\n",
              "    <tr>\n",
              "      <th>151</th>\n",
              "      <td>152</td>\n",
              "      <td>Rwanda</td>\n",
              "      <td>3.334</td>\n",
              "      <td>0.359</td>\n",
              "      <td>0.711</td>\n",
              "      <td>0.614</td>\n",
              "      <td>0.555</td>\n",
              "      <td>0.217</td>\n",
              "      <td>0.411</td>\n",
              "    </tr>\n",
              "    <tr>\n",
              "      <th>152</th>\n",
              "      <td>153</td>\n",
              "      <td>Tanzania</td>\n",
              "      <td>3.231</td>\n",
              "      <td>0.476</td>\n",
              "      <td>0.885</td>\n",
              "      <td>0.499</td>\n",
              "      <td>0.417</td>\n",
              "      <td>0.276</td>\n",
              "      <td>0.147</td>\n",
              "    </tr>\n",
              "    <tr>\n",
              "      <th>153</th>\n",
              "      <td>154</td>\n",
              "      <td>Afghanistan</td>\n",
              "      <td>3.203</td>\n",
              "      <td>0.350</td>\n",
              "      <td>0.517</td>\n",
              "      <td>0.361</td>\n",
              "      <td>0.000</td>\n",
              "      <td>0.158</td>\n",
              "      <td>0.025</td>\n",
              "    </tr>\n",
              "    <tr>\n",
              "      <th>154</th>\n",
              "      <td>155</td>\n",
              "      <td>Central African Republic</td>\n",
              "      <td>3.083</td>\n",
              "      <td>0.026</td>\n",
              "      <td>0.000</td>\n",
              "      <td>0.105</td>\n",
              "      <td>0.225</td>\n",
              "      <td>0.235</td>\n",
              "      <td>0.035</td>\n",
              "    </tr>\n",
              "    <tr>\n",
              "      <th>155</th>\n",
              "      <td>156</td>\n",
              "      <td>South Sudan</td>\n",
              "      <td>2.853</td>\n",
              "      <td>0.306</td>\n",
              "      <td>0.575</td>\n",
              "      <td>0.295</td>\n",
              "      <td>0.010</td>\n",
              "      <td>0.202</td>\n",
              "      <td>0.091</td>\n",
              "    </tr>\n",
              "  </tbody>\n",
              "</table>\n",
              "<p>156 rows × 9 columns</p>\n",
              "</div>"
            ],
            "text/plain": [
              "     Overall rank  ... Perceptions of corruption\n",
              "0               1  ...                     0.393\n",
              "1               2  ...                     0.410\n",
              "2               3  ...                     0.341\n",
              "3               4  ...                     0.118\n",
              "4               5  ...                     0.298\n",
              "..            ...  ...                       ...\n",
              "151           152  ...                     0.411\n",
              "152           153  ...                     0.147\n",
              "153           154  ...                     0.025\n",
              "154           155  ...                     0.035\n",
              "155           156  ...                     0.091\n",
              "\n",
              "[156 rows x 9 columns]"
            ]
          },
          "metadata": {
            "tags": []
          },
          "execution_count": 130
        }
      ]
    },
    {
      "cell_type": "code",
      "metadata": {
        "id": "30uQgisYdKoh",
        "colab_type": "code",
        "colab": {}
      },
      "source": [
        "data_happy = df_happy.drop(columns = ['Overall rank','Country or region','Score'])\n",
        "country = df_happy['Country or region']\n",
        "target_happy = df_happy['Score']\n",
        "x_train, x_val, y_train, y_val = train_test_split(data_happy, target_happy, test_size = 0.3, random_state = 6)\n",
        "scaler = preprocessing.StandardScaler()\n",
        "scaler.fit(x_train)\n",
        "x_train_std = scaler.transform(x_train) \n",
        "x_val_std = scaler.transform(x_val)"
      ],
      "execution_count": null,
      "outputs": []
    },
    {
      "cell_type": "code",
      "metadata": {
        "id": "Uy8z-oGRfcmQ",
        "colab_type": "code",
        "colab": {}
      },
      "source": [
        "## Expanded x and x_val\n",
        "X = np.vstack((np.ones(np.shape(x_train_std)[0]), x_train_std.T)).T\n",
        "X_val = np.vstack((np.ones(np.shape(x_val_std)[0]), x_val_std.T)).T"
      ],
      "execution_count": null,
      "outputs": []
    },
    {
      "cell_type": "code",
      "metadata": {
        "id": "R99ASI0ITdgN",
        "colab_type": "code",
        "colab": {
          "base_uri": "https://localhost:8080/",
          "height": 51
        },
        "outputId": "1168880d-b7a1-4289-8eba-d750b876a6a8"
      },
      "source": [
        "# Direct Solution\n",
        "opt_weight_happy, RMSE_happy, RMSE_val_happy = direct_soultion(X, X_val, y_train, y_val)"
      ],
      "execution_count": null,
      "outputs": [
        {
          "output_type": "stream",
          "text": [
            "The taining error for direct solution (without regularizer) is 0.5382938096235751\n",
            "The validation error for direct solution (without regularizer) is 0.5026899519325029\n"
          ],
          "name": "stdout"
        }
      ]
    },
    {
      "cell_type": "code",
      "metadata": {
        "id": "Tp_oLiYZg6wa",
        "colab_type": "code",
        "colab": {
          "base_uri": "https://localhost:8080/",
          "height": 204
        },
        "outputId": "934152cb-8469-4fbd-9355-b8b65cae4d85"
      },
      "source": [
        "learning_rate = 0.01\n",
        "epoch = 550\n",
        "W_happy, RMSE_happy, RMSE_happy_val = gradient_descent(X, X_val, y_train, y_val, learning_rate, epoch)"
      ],
      "execution_count": null,
      "outputs": [
        {
          "output_type": "stream",
          "text": [
            "Epochs :  0  Training Error :  5.481201662180571  Validation Error :  5.420029760324097\n",
            "Epochs :  50  Training Error :  3.3029897751924895  Validation Error :  3.3458702533362366\n",
            "Epochs :  100  Training Error :  2.040804786501032  Validation Error :  2.10197185280981\n",
            "Epochs :  150  Training Error :  1.3069136602926283  Validation Error :  1.3632598618323344\n",
            "Epochs :  200  Training Error :  0.8995458360274603  Validation Error :  0.9412104483918179\n",
            "Epochs :  250  Training Error :  0.6929058752530204  Validation Error :  0.7144042150192851\n",
            "Epochs :  300  Training Error :  0.5996781279723663  Validation Error :  0.6011746950513229\n",
            "Epochs :  350  Training Error :  0.5616642189901193  Validation Error :  0.5477301341550699\n",
            "Epochs :  400  Training Error :  0.5470655944083836  Validation Error :  0.5229289927931274\n",
            "Epochs :  450  Training Error :  0.5416058535117565  Validation Error :  0.5112260530735337\n",
            "Epochs :  500  Training Error :  0.5395800240226774  Validation Error :  0.5055300790454\n"
          ],
          "name": "stdout"
        }
      ]
    },
    {
      "cell_type": "code",
      "metadata": {
        "id": "ojlAtOi5lXrA",
        "colab_type": "code",
        "colab": {
          "base_uri": "https://localhost:8080/",
          "height": 295
        },
        "outputId": "25d7bb03-4eb4-4926-eaa3-90578eebab49"
      },
      "source": [
        "## Plot Iteration vs Traing error \n",
        "plt.plot(RMSE_happy,  label = 'Training Error')\n",
        "plt.plot(RMSE_happy_val, label = 'Validation Error')\n",
        "plt.xlabel('Iteration')\n",
        "plt.ylabel('Error')\n",
        "plt.legend()\n",
        "plt.title('Iteration vs. Error')\n",
        "plt.show()"
      ],
      "execution_count": null,
      "outputs": [
        {
          "output_type": "display_data",
          "data": {
            "image/png": "[encoded data removed]",
            "text/plain": [
              "<Figure size 432x288 with 1 Axes>"
            ]
          },
          "metadata": {
            "tags": [],
            "needs_background": "light"
          }
        }
      ]
    }
  ]
}